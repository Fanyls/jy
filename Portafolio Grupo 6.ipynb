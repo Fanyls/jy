{
 "cells": [
  {
   "attachments": {
    "image-3.png": {
     "image/png": "[encoded data removed]"
    }
   },
   "cell_type": "markdown",
   "id": "c6f9d52f",
   "metadata": {},
   "source": [
    "#\n",
    "![image-3.png](attachment:image-3.png)\n",
    "  **FACULTAD DE INGENIERÍA**\\\n",
    "  **CARRERA DE INGENIERÍA INDUSTRIAL**\n",
    "  **ASIGNATURA**: HERRAMIENTAS DE ANÁLISIS DE DATOS\\\n",
    "  **ÁREA**: ANÁLISIS DE DATOS Y OPTIMIZACIÓN DE PROCESOS\\\n",
    "  **SECCIÓN**: 317\\\n",
    "  **PERÍODO ACADÉMICO**: 2024-1\n",
    "\n",
    "\n",
    "  <center> <h2 style=\"font-size:24pt\">Portafolio de Herramientas de Análisis de Datos</h2> </center>\n"
   ]
  },
  {
   "cell_type": "code",
   "execution_count": null,
   "id": "7e19e001",
   "metadata": {},
   "outputs": [],
   "source": []
  },
  {
   "cell_type": "markdown",
   "id": "ac227dee-7ec9-45eb-95b7-c4ca68a9da21",
   "metadata": {},
   "source": [
    "### **Información del grupo**\n",
    "\n",
    "####  Número de grupo: 6\n",
    "\n",
    "####  Apellidos y nombres de los integrantes del grupo:\n",
    "\n",
    "+ Alcarraz Salazar,Lady Dayane\n",
    "+ Navarro Quea, Dayana Aracely\n",
    "+ Silva Torres. Ariana Daniela\n",
    "+ Pizarro Sersen,Militza Loana\n"
   ]
  },
  {
   "cell_type": "markdown",
   "id": "f75e96c2",
   "metadata": {},
   "source": [
    "### $\\color{green}{\\mbox{Conjunto de datos: CALIDAD DE LA LECHE}}$"
   ]
  },
  {
   "cell_type": "markdown",
   "id": "65e4f6a3",
   "metadata": {},
   "source": [
    "* ### $\\color{blue}{\\mbox{Variables incluidas en el Dataset}}$\n",
    "* ID_Muestra_leche -> La Numeración de la muestra de leche.Almacenado en enteros\n",
    "* pH -> Indica la cantidad de ácido láctico en la leche. Almacenado en float\n",
    "* Temperatura -> Indica temperatura de la leche. Almacenado en enteros\n",
    "* Sabor -> Indica el sabor si es óptimo o no óptimo. Almacenado en un string\n",
    "* Olor -> Indica el olor de la leche es óptima o no óptima. Almacenado en un string\n",
    "* Grasa -> Indica si la cantidad de grasa de la leche es óptima o no óptima. Almacenado en un string\n",
    "* Turbidez -> Indica la turbidez de la leche.Almacenado en un string\n",
    "* Color -> El número del color de la leche. Almacenado en enteros\n",
    "* Calidad_Leche -> Determina si la calidad de la leche es alta, media u baja. Almacenado en un string"
   ]
  },
  {
   "cell_type": "markdown",
   "id": "79c93863",
   "metadata": {},
   "source": [
    "## $\\color{darkred}{\\mbox{Configuración inicial:}}$\n"
   ]
  },
  {
   "cell_type": "markdown",
   "id": "5830c5af",
   "metadata": {},
   "source": [
    "### Se cargan las librerías numpy, pandas, matplotlib y seaborn."
   ]
  },
  {
   "cell_type": "code",
   "execution_count": 74,
   "id": "db9c4d77",
   "metadata": {},
   "outputs": [],
   "source": [
    "# Librerías \n",
    "import pandas as pd               # importa la biblioteca pandas con alias pd.\n",
    "import matplotlib.pyplot as plt   # importa el módulo pylot de matplotlib con alias plt.\n",
    "import seaborn as sns             # importa biblioteca seaborn con alias sns.\n",
    "import numpy as np                # importa la biblioteca numpy con alias np. para usar np.nan"
   ]
  },
  {
   "cell_type": "markdown",
   "id": "486fdde4",
   "metadata": {},
   "source": [
    "### Se Configuran las opciones de pandas."
   ]
  },
  {
   "cell_type": "code",
   "execution_count": 75,
   "id": "27ffcad5",
   "metadata": {},
   "outputs": [],
   "source": [
    "pd.options.display.max_rows=70      # se cambia el número máximo de filas a mostrar a 70. Con None se ven todas las filas.\n",
    "pd.options.display.max_columns=25   # se cambia el número máximo de columnas a 25.\n",
    "pd.options.display.max_colwidth=55  # se cambia el número máximo del ancho de columnas a 55.\n",
    "pd.options.display.precision=8      # se cambia el número máximo de decimales a 8."
   ]
  },
  {
   "cell_type": "markdown",
   "id": "48ce7ccb",
   "metadata": {},
   "source": [
    "### Se carga al DataFrame el archivo **xxxxxx.xlsx**."
   ]
  },
  {
   "cell_type": "code",
   "execution_count": 76,
   "id": "5c720beb",
   "metadata": {},
   "outputs": [],
   "source": [
    "# Carga un archivo irisvariedad.xlsx a un DataFrame de pandas .\n",
    "df=pd.read_excel('Milk-Quality-Prediction(1).xlsx.')"
   ]
  },
  {
   "cell_type": "code",
   "execution_count": 77,
   "id": "ca7f6147",
   "metadata": {
    "scrolled": true
   },
   "outputs": [
    {
     "data": {
      "text/html": [
       "<div>\n",
       "<style scoped>\n",
       "    .dataframe tbody tr th:only-of-type {\n",
       "        vertical-align: middle;\n",
       "    }\n",
       "\n",
       "    .dataframe tbody tr th {\n",
       "        vertical-align: top;\n",
       "    }\n",
       "\n",
       "    .dataframe thead th {\n",
       "        text-align: right;\n",
       "    }\n",
       "</style>\n",
       "<table border=\"1\" class=\"dataframe\">\n",
       "  <thead>\n",
       "    <tr style=\"text-align: right;\">\n",
       "      <th></th>\n",
       "      <th>ID_Muestra_Leche</th>\n",
       "      <th>pH</th>\n",
       "      <th>Temperatura</th>\n",
       "      <th>Sabor</th>\n",
       "      <th>Olor</th>\n",
       "      <th>Grasa</th>\n",
       "      <th>Turbidez</th>\n",
       "      <th>Color</th>\n",
       "      <th>Calidad_Leche</th>\n",
       "    </tr>\n",
       "  </thead>\n",
       "  <tbody>\n",
       "    <tr>\n",
       "      <th>0</th>\n",
       "      <td>1</td>\n",
       "      <td>6.6</td>\n",
       "      <td>35.0</td>\n",
       "      <td>Optimo</td>\n",
       "      <td>No_Optimo</td>\n",
       "      <td>Optimo</td>\n",
       "      <td>No_Optimo</td>\n",
       "      <td>254</td>\n",
       "      <td>Alta</td>\n",
       "    </tr>\n",
       "    <tr>\n",
       "      <th>1</th>\n",
       "      <td>2</td>\n",
       "      <td>6.6</td>\n",
       "      <td>36.0</td>\n",
       "      <td>No_Optimo</td>\n",
       "      <td>Optimo</td>\n",
       "      <td>No_Optimo</td>\n",
       "      <td>Optimo</td>\n",
       "      <td>253</td>\n",
       "      <td>Alta</td>\n",
       "    </tr>\n",
       "    <tr>\n",
       "      <th>2</th>\n",
       "      <td>3</td>\n",
       "      <td>8.5</td>\n",
       "      <td>70.0</td>\n",
       "      <td>Optimo</td>\n",
       "      <td>Optimo</td>\n",
       "      <td>Optimo</td>\n",
       "      <td>Optimo</td>\n",
       "      <td>246</td>\n",
       "      <td>Baja</td>\n",
       "    </tr>\n",
       "    <tr>\n",
       "      <th>3</th>\n",
       "      <td>4</td>\n",
       "      <td>9.5</td>\n",
       "      <td>34.0</td>\n",
       "      <td>Optimo</td>\n",
       "      <td>Optimo</td>\n",
       "      <td>No_Optimo</td>\n",
       "      <td>Optimo</td>\n",
       "      <td>255</td>\n",
       "      <td>Baja</td>\n",
       "    </tr>\n",
       "    <tr>\n",
       "      <th>4</th>\n",
       "      <td>5</td>\n",
       "      <td>6.6</td>\n",
       "      <td>37.0</td>\n",
       "      <td>No_Optimo</td>\n",
       "      <td>No_Optimo</td>\n",
       "      <td>No_Optimo</td>\n",
       "      <td>No_Optimo</td>\n",
       "      <td>255</td>\n",
       "      <td>Media</td>\n",
       "    </tr>\n",
       "    <tr>\n",
       "      <th>...</th>\n",
       "      <td>...</td>\n",
       "      <td>...</td>\n",
       "      <td>...</td>\n",
       "      <td>...</td>\n",
       "      <td>...</td>\n",
       "      <td>...</td>\n",
       "      <td>...</td>\n",
       "      <td>...</td>\n",
       "      <td>...</td>\n",
       "    </tr>\n",
       "    <tr>\n",
       "      <th>1054</th>\n",
       "      <td>1055</td>\n",
       "      <td>6.7</td>\n",
       "      <td>45.0</td>\n",
       "      <td>Optimo</td>\n",
       "      <td>Optimo</td>\n",
       "      <td>No_Optimo</td>\n",
       "      <td>No_Optimo</td>\n",
       "      <td>247</td>\n",
       "      <td>Media</td>\n",
       "    </tr>\n",
       "    <tr>\n",
       "      <th>1055</th>\n",
       "      <td>1056</td>\n",
       "      <td>6.7</td>\n",
       "      <td>38.0</td>\n",
       "      <td>Optimo</td>\n",
       "      <td>No_Optimo</td>\n",
       "      <td>Optimo</td>\n",
       "      <td>No_Optimo</td>\n",
       "      <td>255</td>\n",
       "      <td>Alta</td>\n",
       "    </tr>\n",
       "    <tr>\n",
       "      <th>1056</th>\n",
       "      <td>1057</td>\n",
       "      <td>3.0</td>\n",
       "      <td>40.0</td>\n",
       "      <td>Optimo</td>\n",
       "      <td>Optimo</td>\n",
       "      <td>Optimo</td>\n",
       "      <td>Optimo</td>\n",
       "      <td>255</td>\n",
       "      <td>Baja</td>\n",
       "    </tr>\n",
       "    <tr>\n",
       "      <th>1057</th>\n",
       "      <td>1058</td>\n",
       "      <td>6.8</td>\n",
       "      <td>43.0</td>\n",
       "      <td>Optimo</td>\n",
       "      <td>No_Optimo</td>\n",
       "      <td>Optimo</td>\n",
       "      <td>No_Optimo</td>\n",
       "      <td>250</td>\n",
       "      <td>Alta</td>\n",
       "    </tr>\n",
       "    <tr>\n",
       "      <th>1058</th>\n",
       "      <td>1059</td>\n",
       "      <td>8.6</td>\n",
       "      <td>55.0</td>\n",
       "      <td>No_Optimo</td>\n",
       "      <td>Optimo</td>\n",
       "      <td>Optimo</td>\n",
       "      <td>Optimo</td>\n",
       "      <td>255</td>\n",
       "      <td>Baja</td>\n",
       "    </tr>\n",
       "  </tbody>\n",
       "</table>\n",
       "<p>1059 rows × 9 columns</p>\n",
       "</div>"
      ],
      "text/plain": [
       "      ID_Muestra_Leche   pH  Temperatura      Sabor       Olor      Grasa  \\\n",
       "0                    1  6.6         35.0     Optimo  No_Optimo     Optimo   \n",
       "1                    2  6.6         36.0  No_Optimo     Optimo  No_Optimo   \n",
       "2                    3  8.5         70.0     Optimo     Optimo     Optimo   \n",
       "3                    4  9.5         34.0     Optimo     Optimo  No_Optimo   \n",
       "4                    5  6.6         37.0  No_Optimo  No_Optimo  No_Optimo   \n",
       "...                ...  ...          ...        ...        ...        ...   \n",
       "1054              1055  6.7         45.0     Optimo     Optimo  No_Optimo   \n",
       "1055              1056  6.7         38.0     Optimo  No_Optimo     Optimo   \n",
       "1056              1057  3.0         40.0     Optimo     Optimo     Optimo   \n",
       "1057              1058  6.8         43.0     Optimo  No_Optimo     Optimo   \n",
       "1058              1059  8.6         55.0  No_Optimo     Optimo     Optimo   \n",
       "\n",
       "       Turbidez  Color Calidad_Leche  \n",
       "0     No_Optimo    254          Alta  \n",
       "1        Optimo    253          Alta  \n",
       "2        Optimo    246          Baja  \n",
       "3        Optimo    255          Baja  \n",
       "4     No_Optimo    255         Media  \n",
       "...         ...    ...           ...  \n",
       "1054  No_Optimo    247         Media  \n",
       "1055  No_Optimo    255          Alta  \n",
       "1056     Optimo    255          Baja  \n",
       "1057  No_Optimo    250          Alta  \n",
       "1058     Optimo    255          Baja  \n",
       "\n",
       "[1059 rows x 9 columns]"
      ]
     },
     "execution_count": 77,
     "metadata": {},
     "output_type": "execute_result"
    }
   ],
   "source": [
    "df"
   ]
  },
  {
   "cell_type": "code",
   "execution_count": 78,
   "id": "91461a35-b9ba-439c-bd03-8662231a2669",
   "metadata": {},
   "outputs": [
    {
     "data": {
      "text/html": [
       "<div>\n",
       "<style scoped>\n",
       "    .dataframe tbody tr th:only-of-type {\n",
       "        vertical-align: middle;\n",
       "    }\n",
       "\n",
       "    .dataframe tbody tr th {\n",
       "        vertical-align: top;\n",
       "    }\n",
       "\n",
       "    .dataframe thead th {\n",
       "        text-align: right;\n",
       "    }\n",
       "</style>\n",
       "<table border=\"1\" class=\"dataframe\">\n",
       "  <thead>\n",
       "    <tr style=\"text-align: right;\">\n",
       "      <th></th>\n",
       "      <th>ID_Muestra_Leche</th>\n",
       "      <th>pH</th>\n",
       "      <th>Temperatura</th>\n",
       "      <th>Sabor</th>\n",
       "      <th>Olor</th>\n",
       "      <th>Grasa</th>\n",
       "      <th>Turbidez</th>\n",
       "      <th>Color</th>\n",
       "      <th>Calidad_Leche</th>\n",
       "    </tr>\n",
       "  </thead>\n",
       "  <tbody>\n",
       "    <tr>\n",
       "      <th>0</th>\n",
       "      <td>1</td>\n",
       "      <td>6.6</td>\n",
       "      <td>35.0</td>\n",
       "      <td>Optimo</td>\n",
       "      <td>No_Optimo</td>\n",
       "      <td>Optimo</td>\n",
       "      <td>No_Optimo</td>\n",
       "      <td>254</td>\n",
       "      <td>Alta</td>\n",
       "    </tr>\n",
       "    <tr>\n",
       "      <th>1</th>\n",
       "      <td>2</td>\n",
       "      <td>6.6</td>\n",
       "      <td>36.0</td>\n",
       "      <td>No_Optimo</td>\n",
       "      <td>Optimo</td>\n",
       "      <td>No_Optimo</td>\n",
       "      <td>Optimo</td>\n",
       "      <td>253</td>\n",
       "      <td>Alta</td>\n",
       "    </tr>\n",
       "    <tr>\n",
       "      <th>2</th>\n",
       "      <td>3</td>\n",
       "      <td>8.5</td>\n",
       "      <td>70.0</td>\n",
       "      <td>Optimo</td>\n",
       "      <td>Optimo</td>\n",
       "      <td>Optimo</td>\n",
       "      <td>Optimo</td>\n",
       "      <td>246</td>\n",
       "      <td>Baja</td>\n",
       "    </tr>\n",
       "    <tr>\n",
       "      <th>3</th>\n",
       "      <td>4</td>\n",
       "      <td>9.5</td>\n",
       "      <td>34.0</td>\n",
       "      <td>Optimo</td>\n",
       "      <td>Optimo</td>\n",
       "      <td>No_Optimo</td>\n",
       "      <td>Optimo</td>\n",
       "      <td>255</td>\n",
       "      <td>Baja</td>\n",
       "    </tr>\n",
       "    <tr>\n",
       "      <th>4</th>\n",
       "      <td>5</td>\n",
       "      <td>6.6</td>\n",
       "      <td>37.0</td>\n",
       "      <td>No_Optimo</td>\n",
       "      <td>No_Optimo</td>\n",
       "      <td>No_Optimo</td>\n",
       "      <td>No_Optimo</td>\n",
       "      <td>255</td>\n",
       "      <td>Media</td>\n",
       "    </tr>\n",
       "  </tbody>\n",
       "</table>\n",
       "</div>"
      ],
      "text/plain": [
       "   ID_Muestra_Leche   pH  Temperatura      Sabor       Olor      Grasa  \\\n",
       "0                 1  6.6         35.0     Optimo  No_Optimo     Optimo   \n",
       "1                 2  6.6         36.0  No_Optimo     Optimo  No_Optimo   \n",
       "2                 3  8.5         70.0     Optimo     Optimo     Optimo   \n",
       "3                 4  9.5         34.0     Optimo     Optimo  No_Optimo   \n",
       "4                 5  6.6         37.0  No_Optimo  No_Optimo  No_Optimo   \n",
       "\n",
       "    Turbidez  Color Calidad_Leche  \n",
       "0  No_Optimo    254          Alta  \n",
       "1     Optimo    253          Alta  \n",
       "2     Optimo    246          Baja  \n",
       "3     Optimo    255          Baja  \n",
       "4  No_Optimo    255         Media  "
      ]
     },
     "execution_count": 78,
     "metadata": {},
     "output_type": "execute_result"
    }
   ],
   "source": [
    "# muestra las primeras 5 filas del índice 0 al 4.\n",
    "df.head(5)"
   ]
  },
  {
   "cell_type": "code",
   "execution_count": 129,
   "id": "27dd81fa-7681-446a-8536-92a747c4005f",
   "metadata": {},
   "outputs": [
    {
     "data": {
      "text/plain": [
       "Calidad_Leche\n",
       "Media    196\n",
       "Alta     124\n",
       "Baja      63\n",
       "Name: count, dtype: int64"
      ]
     },
     "execution_count": 129,
     "metadata": {},
     "output_type": "execute_result"
    }
   ],
   "source": [
    "# se crea un DatFrame df1 que contiene \n",
    "df1=df[df.Temperatura<40].Calidad_Leche.value_counts()\n",
    "df1\n"
   ]
  },
  {
   "cell_type": "code",
   "execution_count": 130,
   "id": "082119e8-b1ff-4fad-9fe1-6ff4f7a4fc28",
   "metadata": {
    "scrolled": true
   },
   "outputs": [
    {
     "data": {
      "text/plain": [
       "Calidad_Leche\n",
       "Baja     285\n",
       "Media    128\n",
       "Alta     108\n",
       "Name: count, dtype: int64"
      ]
     },
     "execution_count": 130,
     "metadata": {},
     "output_type": "execute_result"
    }
   ],
   "source": [
    "# se crea un DatFrame df1 que contiene la frecuencia por \n",
    "df2=df[df.Temperatura>40].Calidad_Leche.value_counts()\n",
    "df2"
   ]
  },
  {
   "cell_type": "code",
   "execution_count": 131,
   "id": "75d9c001-e7d2-40f0-b854-6a2d63f7680e",
   "metadata": {},
   "outputs": [
    {
     "data": {
      "text/plain": [
       "Temperatura\n",
       "45.0    92\n",
       "38.0    56\n",
       "37.0    37\n",
       "36.0    22\n",
       "40.0    19\n",
       "43.0    14\n",
       "35.0     9\n",
       "42.0     1\n",
       "41.0     1\n",
       "Name: count, dtype: int64"
      ]
     },
     "execution_count": 131,
     "metadata": {},
     "output_type": "execute_result"
    }
   ],
   "source": [
    "# se crea un DatFrame df1 que contiene la frecuencia por \n",
    "dfA=df[df.Calidad_Leche==\"Alta\"].Temperatura.value_counts()\n",
    "dfA"
   ]
  },
  {
   "cell_type": "code",
   "execution_count": 82,
   "id": "2f5111b9-ba95-4848-85c7-a8d54594f3d0",
   "metadata": {},
   "outputs": [
    {
     "data": {
      "text/plain": [
       "Temperatura\n",
       "45.0    99\n",
       "38.0    82\n",
       "36.0    43\n",
       "37.0    42\n",
       "40.0    41\n",
       "41.0    27\n",
       "34.0    15\n",
       "35.0    14\n",
       "43.0     2\n",
       "Name: count, dtype: int64"
      ]
     },
     "execution_count": 82,
     "metadata": {},
     "output_type": "execute_result"
    }
   ],
   "source": [
    "dfB=df[df.Calidad_Leche==\"Media\"].Temperatura.value_counts()\n",
    "dfB"
   ]
  },
  {
   "cell_type": "code",
   "execution_count": 83,
   "id": "6c66fc86-4506-492f-b79e-85e3a57b94d6",
   "metadata": {},
   "outputs": [
    {
     "data": {
      "text/plain": [
       "Temperatura\n",
       "40.0    69\n",
       "43.0    60\n",
       "50.0    57\n",
       "55.0    46\n",
       "38.0    37\n",
       "34.0    24\n",
       "66.0    24\n",
       "45.0    23\n",
       "70.0    21\n",
       "65.0    20\n",
       "60.0    18\n",
       "90.0    16\n",
       "37.0     2\n",
       "Name: count, dtype: int64"
      ]
     },
     "execution_count": 83,
     "metadata": {},
     "output_type": "execute_result"
    }
   ],
   "source": [
    "dfC=df[df.Calidad_Leche==\"Baja\"].Temperatura.value_counts()\n",
    "dfC"
   ]
  },
  {
   "cell_type": "code",
   "execution_count": 84,
   "id": "b175a993-08a3-4de3-9720-a402399305fb",
   "metadata": {
    "scrolled": true
   },
   "outputs": [
    {
     "data": {
      "image/png": "[encoded data removed]",
      "text/plain": [
       "<Figure size 600x200 with 1 Axes>"
      ]
     },
     "metadata": {},
     "output_type": "display_data"
    }
   ],
   "source": [
    "# se crea el gráfico de barra vertical de dfA.\n",
    "dfA.plot(kind='bar', # tipo de gráfico barra vertical.\n",
    " title='Calidad de leche ALTA según Temperatura', # establece el título del gráfico.\n",
    " xlabel='Temperatura', # etiqueta del eje x.\n",
    " ylabel='Frecuencia', # etiquetas del eje y.\n",
    " color=['MediumVioletRed','DarkViolet','Gold'], # especifica el color o la lista del colores del\n",
    " figsize=(6,2), # controla el tamaño del gráfico en pulgadas.\n",
    " grid=True) # controla las líneas de la cuadrícula, puede se\n",
    "plt.show() "
   ]
  },
  {
   "cell_type": "markdown",
   "id": "dc47d3e1",
   "metadata": {},
   "source": [
    "$\\color{darkviolet}{\\textsf{Interpretacion:}}$   \n",
    "\n",
    "Existe mayor cantidad de leche de calidad ALTA a mayor Temperatura"
   ]
  },
  {
   "cell_type": "code",
   "execution_count": 85,
   "id": "c1799e33-8ad1-44c0-9635-cb08ae978a7f",
   "metadata": {
    "scrolled": true
   },
   "outputs": [
    {
     "data": {
      "image/png": "[encoded data removed]",
      "text/plain": [
       "<Figure size 600x200 with 1 Axes>"
      ]
     },
     "metadata": {},
     "output_type": "display_data"
    }
   ],
   "source": [
    "# se crea el gráfico de barra vertical de dfB.\n",
    "dfB.plot(kind='bar', # tipo de gráfico barra vertical.\n",
    " title='Calidad de leche MEDIA según Temperatura', # establece el título del gráfico.\n",
    " xlabel='Temperatura', # etiqueta del eje x.\n",
    " ylabel='Frecuencia', # etiquetas del eje y.\n",
    " color=['MediumVioletRed','DarkViolet','Gold'], # especifica el color o la lista del colores del\n",
    " figsize=(6,2), # controla el tamaño del gráfico en pulgadas.\n",
    " grid=True) # controla las líneas de la cuadrícula, puede se\n",
    "plt.show() "
   ]
  },
  {
   "cell_type": "markdown",
   "id": "91b6698e",
   "metadata": {},
   "source": [
    "$\\color{darkviolet}{\\textsf{Interpretacion:}}$\n",
    "\n",
    "Existe mayor cantidad de leche de calidad MEDIA a mayor Temperatura"
   ]
  },
  {
   "cell_type": "code",
   "execution_count": 86,
   "id": "f6a2bf8b-1a72-4e1c-b3a4-a3882b9a03a2",
   "metadata": {
    "scrolled": true
   },
   "outputs": [
    {
     "data": {
      "image/png": "[encoded data removed]",
      "text/plain": [
       "<Figure size 600x200 with 1 Axes>"
      ]
     },
     "metadata": {},
     "output_type": "display_data"
    }
   ],
   "source": [
    "# se crea el gráfico de barra vertical de dfC.\n",
    "dfC.plot(kind='bar', # tipo de gráfico barra vertical.\n",
    " title='Calidad de leche BAJA según Temperatura', # establece el título del gráfico.\n",
    " xlabel='Temperatura', # etiqueta del eje x.\n",
    " ylabel='Frecuencia', # etiquetas del eje y.\n",
    " color=['MediumVioletRed','DarkViolet','Gold'], # especifica el color o la lista del colores del\n",
    " figsize=(6,2), # controla el tamaño del gráfico en pulgadas.\n",
    " grid=True) # controla las líneas de la cuadrícula, puede se\n",
    "plt.show() "
   ]
  },
  {
   "cell_type": "markdown",
   "id": "1bcfa306",
   "metadata": {},
   "source": [
    "$\\color{darkviolet}{\\textsf{Interpretacion:}}$\n",
    "\n",
    "Existe mayor cantidad de leche de calidad BAJA a mayor Tmeperatura\n",
    "\n"
   ]
  },
  {
   "cell_type": "code",
   "execution_count": 87,
   "id": "c6e72dcc-f798-4d8a-a3cf-1c1921ba2f69",
   "metadata": {},
   "outputs": [
    {
     "data": {
      "text/plain": [
       "Calidad_Leche\n",
       "Baja     254\n",
       "Alta     170\n",
       "Media    155\n",
       "Name: count, dtype: int64"
      ]
     },
     "execution_count": 87,
     "metadata": {},
     "output_type": "execute_result"
    }
   ],
   "source": [
    "dfD=df[df.Sabor==\"Optimo\"]['Calidad_Leche'].value_counts()\n",
    "dfD"
   ]
  },
  {
   "cell_type": "code",
   "execution_count": 88,
   "id": "49955bcf",
   "metadata": {},
   "outputs": [
    {
     "data": {
      "text/plain": [
       "Sabor\n",
       "Optimo       170\n",
       "No_Optimo     86\n",
       "Name: count, dtype: int64"
      ]
     },
     "execution_count": 88,
     "metadata": {},
     "output_type": "execute_result"
    }
   ],
   "source": [
    "dfD=df[df.Calidad_Leche==\"Alta\"]['Sabor'].value_counts()\n",
    "dfD"
   ]
  },
  {
   "cell_type": "code",
   "execution_count": 89,
   "id": "3fc60a64-0992-4ba8-93b0-aef3c619ebb6",
   "metadata": {},
   "outputs": [
    {
     "data": {
      "image/png": "[encoded data removed]",
      "text/plain": [
       "<Figure size 600x200 with 1 Axes>"
      ]
     },
     "metadata": {},
     "output_type": "display_data"
    }
   ],
   "source": [
    "# se crea el gráfico de barra vertical de df1.\n",
    "dfD.plot(kind='bar', # tipo de gráfico barra vertical.\n",
    " title='Calidad de leche según Sabor Optimo', # establece el título del gráfico.\n",
    " xlabel='Temperatura', # etiqueta del eje x.\n",
    " ylabel='Frecuencia', # etiquetas del eje y.\n",
    " color=['MediumVioletRed','DarkViolet','Gold'], # especifica el color o la lista del colores del\n",
    " figsize=(6,2), # controla el tamaño del gráfico en pulgadas.\n",
    " grid=True) # controla las líneas de la cuadrícula, puede se\n",
    "plt.show() "
   ]
  },
  {
   "cell_type": "code",
   "execution_count": 90,
   "id": "ae3b3166-406d-47f2-9693-a027471a6935",
   "metadata": {},
   "outputs": [
    {
     "data": {
      "text/plain": [
       "Sabor\n",
       "Optimo       170\n",
       "No_Optimo     86\n",
       "Name: count, dtype: int64"
      ]
     },
     "execution_count": 90,
     "metadata": {},
     "output_type": "execute_result"
    }
   ],
   "source": [
    "dfE=df[df.Calidad_Leche==\"Alta\"]['Sabor'].value_counts()\n",
    "dfE"
   ]
  },
  {
   "cell_type": "code",
   "execution_count": 91,
   "id": "cad8adae-cea6-4bb2-8bcb-42333ff4a559",
   "metadata": {},
   "outputs": [
    {
     "data": {
      "image/png": "[encoded data removed]",
      "text/plain": [
       "<Figure size 600x200 with 1 Axes>"
      ]
     },
     "metadata": {},
     "output_type": "display_data"
    }
   ],
   "source": [
    "# se crea el gráfico de barra vertical de df1.\n",
    "dfE.plot(kind='bar', # tipo de gráfico barra vertical.\n",
    " title='Calidad de leche ALTA según SABOR', # establece el título del gráfico.\n",
    " xlabel='Temperatura', # etiqueta del eje x.\n",
    " ylabel='Frecuencia', # etiquetas del eje y.\n",
    " color=['MediumVioletRed','DarkViolet','Gold'], # especifica el color o la lista del colores del\n",
    " figsize=(6,2), # controla el tamaño del gráfico en pulgadas.\n",
    " grid=True) # controla las líneas de la cuadrícula, puede se\n",
    "plt.show() "
   ]
  },
  {
   "cell_type": "code",
   "execution_count": 92,
   "id": "c7ac6d88-c3eb-4f03-a301-39ce86081d3d",
   "metadata": {},
   "outputs": [
    {
     "data": {
      "text/plain": [
       "Sabor\n",
       "No_Optimo    219\n",
       "Optimo       155\n",
       "Name: count, dtype: int64"
      ]
     },
     "execution_count": 92,
     "metadata": {},
     "output_type": "execute_result"
    }
   ],
   "source": [
    "dfF=df[df.Calidad_Leche==\"Media\"]['Sabor'].value_counts()\n",
    "dfF"
   ]
  },
  {
   "cell_type": "code",
   "execution_count": 93,
   "id": "c9c49771-738c-4fc2-9004-fe2296ec158b",
   "metadata": {},
   "outputs": [
    {
     "data": {
      "image/png": "[encoded data removed]",
      "text/plain": [
       "<Figure size 600x200 with 1 Axes>"
      ]
     },
     "metadata": {},
     "output_type": "display_data"
    }
   ],
   "source": [
    "# se crea el gráfico de barra vertical de df1.\n",
    "dfF.plot(kind='bar', # tipo de gráfico barra vertical.\n",
    " title='Calidad de leche MEDIA según SABOR', # establece el título del gráfico.\n",
    " xlabel='Temperatura', # etiqueta del eje x.\n",
    " ylabel='Frecuencia', # etiquetas del eje y.\n",
    " color=['MediumVioletRed','DarkViolet','Gold'], # especifica el color o la lista del colores del\n",
    " figsize=(6,2), # controla el tamaño del gráfico en pulgadas.\n",
    " grid=True) # controla las líneas de la cuadrícula, puede se\n",
    "plt.show() "
   ]
  },
  {
   "cell_type": "code",
   "execution_count": 94,
   "id": "92a6002c-da1b-4bd9-8587-f286b544daf3",
   "metadata": {},
   "outputs": [
    {
     "data": {
      "text/plain": [
       "Sabor\n",
       "Optimo       254\n",
       "No_Optimo    175\n",
       "Name: count, dtype: int64"
      ]
     },
     "execution_count": 94,
     "metadata": {},
     "output_type": "execute_result"
    }
   ],
   "source": [
    "dfG=df[df.Calidad_Leche==\"Baja\"]['Sabor'].value_counts()\n",
    "dfG"
   ]
  },
  {
   "cell_type": "code",
   "execution_count": 95,
   "id": "194d0118-6ee7-4fd5-a21a-cfad57a399a8",
   "metadata": {},
   "outputs": [
    {
     "data": {
      "image/png": "[encoded data removed]",
      "text/plain": [
       "<Figure size 600x200 with 1 Axes>"
      ]
     },
     "metadata": {},
     "output_type": "display_data"
    }
   ],
   "source": [
    "# se crea el gráfico de barra vertical de df1.\n",
    "dfG.plot(kind='bar', # tipo de gráfico barra vertical.\n",
    " title='Calidad de leche BAJA según SABOR', # establece el título del gráfico.\n",
    " xlabel='Temperatura', # etiqueta del eje x.\n",
    " ylabel='Frecuencia', # etiquetas del eje y.\n",
    " color=['MediumVioletRed','DarkViolet','Gold'], # especifica el color o la lista del colores del\n",
    " figsize=(6,2), # controla el tamaño del gráfico en pulgadas.\n",
    " grid=True) # controla las líneas de la cuadrícula, puede se\n",
    "plt.show() "
   ]
  },
  {
   "cell_type": "code",
   "execution_count": 132,
   "id": "d376201a-f061-4bf0-ad3f-28cd61c66e9d",
   "metadata": {},
   "outputs": [
    {
     "data": {
      "text/plain": [
       "pH\n",
       "6.8    71\n",
       "6.6    63\n",
       "9.0    59\n",
       "3.0    49\n",
       "4.5    36\n",
       "8.6    34\n",
       "6.5    25\n",
       "8.1    24\n",
       "5.5    23\n",
       "5.6    18\n",
       "7.4    16\n",
       "8.5     1\n",
       "Name: count, dtype: int64"
      ]
     },
     "execution_count": 132,
     "metadata": {},
     "output_type": "execute_result"
    }
   ],
   "source": [
    "# se crea un DatFrame df3 que contiene la frecuencia por\n",
    "dfH=df[(df.Grasa==\"Optimo\")&(df.Turbidez=='Optimo')].pH.value_counts()\n",
    "dfH\n"
   ]
  },
  {
   "cell_type": "code",
   "execution_count": 97,
   "id": "8285568c-dcf1-4fa0-ae73-c31e7fa72bc8",
   "metadata": {
    "scrolled": true
   },
   "outputs": [
    {
     "data": {
      "image/png": "[encoded data removed]",
      "text/plain": [
       "<Figure size 600x200 with 1 Axes>"
      ]
     },
     "metadata": {},
     "output_type": "display_data"
    }
   ],
   "source": [
    "# se crea el gráfico de barra vertical de df1.\n",
    "dfH.plot(kind='barh', # tipo de gráfico barra vertical.\n",
    " title='Sabor Optimo y Grasa Optima por pH', # establece el título del gráfico.\n",
    " xlabel='Temperatura', # etiqueta del eje x.\n",
    " ylabel='Frecuencia', # etiquetas del eje y.\n",
    " color=['MediumVioletRed','DarkViolet','Gold'], # especifica el color o la lista del colores del\n",
    " figsize=(6,2), # controla el tamaño del gráfico en pulgadas.\n",
    " grid=True) # controla las líneas de la cuadrícula, puede se\n",
    "plt.show() "
   ]
  },
  {
   "cell_type": "markdown",
   "id": "cc772ed0",
   "metadata": {},
   "source": [
    "$\\color{darkviolet}{\\textsf{Interpretacion:}}$\n",
    "\n",
    "A mayor pH, el sabor y la grasa son optimos."
   ]
  },
  {
   "cell_type": "code",
   "execution_count": 133,
   "id": "dab9e9ba-c4d6-4257-a8b6-f12d64896e35",
   "metadata": {},
   "outputs": [
    {
     "data": {
      "text/plain": [
       "Calidad_Leche\n",
       "Baja     311\n",
       "Alta     162\n",
       "Media     47\n",
       "Name: count, dtype: int64"
      ]
     },
     "execution_count": 133,
     "metadata": {},
     "output_type": "execute_result"
    }
   ],
   "source": [
    "# se crea un DatFrame df3 que contiene la frecuencia por\n",
    "dfJ=df[df.Turbidez=='Optimo'].Calidad_Leche.value_counts()\n",
    "dfJ"
   ]
  },
  {
   "cell_type": "code",
   "execution_count": 99,
   "id": "108aaa3d-97b6-429d-81e8-257402f5242a",
   "metadata": {},
   "outputs": [
    {
     "data": {
      "image/png": "[encoded data removed]",
      "text/plain": [
       "<Figure size 700x400 with 1 Axes>"
      ]
     },
     "metadata": {},
     "output_type": "display_data"
    }
   ],
   "source": [
    "# se crea el gráfico circular de df5.\n",
    "dfJ.plot(kind='pie', # tipo de gráfico.\n",
    " title='Calidad de leche por Turbidez Optimo', # establece el título del gráfico.\n",
    " colors=[\"MediumVioletRed\",\"DarkViolet\",\"DarkOrange\"],   # especifica la lista del colores del gráfico.\n",
    " labels=['baja','alta','media'], # especifica las etiquetas para las porciones de\n",
    " legend=True, # controla la visualización del gráfico, puede s\n",
    " figsize=(7,4), # controla el tamaño del gráfico en pulgadas.\n",
    " shadow=True, # si es True, muestra una sombra debajo del gráf\n",
    " autopct='%.2f%%') # especifica el formato de los porcentajes.\n",
    "plt.legend(loc='best',fontsize=7) # configura la leyenda: ubicación y tamaño de le\n",
    "plt.show() "
   ]
  },
  {
   "cell_type": "code",
   "execution_count": 142,
   "id": "9aa3199f-9936-4677-ae3d-2f9c0eda7577",
   "metadata": {},
   "outputs": [
    {
     "name": "stderr",
     "output_type": "stream",
     "text": [
      "C:\\ProgramData\\anaconda3\\Lib\\site-packages\\seaborn\\axisgrid.py:118: UserWarning: The figure layout has changed to tight\n",
      "  self._figure.tight_layout(*args, **kwargs)\n"
     ]
    },
    {
     "data": {
      "image/png": "[encoded data removed]",
      "text/plain": [
       "<Figure size 727x300 with 2 Axes>"
      ]
     },
     "metadata": {},
     "output_type": "display_data"
    }
   ],
   "source": [
    "# calidadleche según sexo y clase\n",
    "sns.catplot (x='Calidad_Leche', # en x la variable categórica: \n",
    " col='Turbidez', # en col la variable categórica: un gráfic\n",
    " hue='Grasa', # en hue la varieble categórica:  color de ba\n",
    " data=df, # en data:df\n",
    " palette=sns.color_palette(['MediumVioletRed','DarkViolet','Gold']),# colores.\n",
    " height = 3, # Altura del gráfico.\n",
    " aspect = 1, # Razón del ancho con respecto a la altura.\n",
    " kind='count') # en kid:count, recuento de s por po\n",
    "plt.show()\n"
   ]
  },
  {
   "cell_type": "code",
   "execution_count": 143,
   "id": "dc21cd5f",
   "metadata": {},
   "outputs": [
    {
     "name": "stderr",
     "output_type": "stream",
     "text": [
      "C:\\ProgramData\\anaconda3\\Lib\\site-packages\\seaborn\\axisgrid.py:118: UserWarning: The figure layout has changed to tight\n",
      "  self._figure.tight_layout(*args, **kwargs)\n"
     ]
    },
    {
     "data": {
      "image/png": "[encoded data removed]",
      "text/plain": [
       "<Figure size 727x300 with 2 Axes>"
      ]
     },
     "metadata": {},
     "output_type": "display_data"
    }
   ],
   "source": [
    "# calidadleche según sexo y clase\n",
    "sns.catplot (x='Calidad_Leche', # en x la variable categórica: \n",
    " col='Olor', # en col la variable categórica: un gráfic\n",
    " hue='Sabor', # en hue la varieble categórica:  color de ba\n",
    " data=df, # en data:df\n",
    " palette=sns.color_palette(['MediumVioletRed','DarkViolet','Gold']),# colores.\n",
    " height = 3, # Altura del gráfico.\n",
    " aspect = 1, # Razón del ancho con respecto a la altura.\n",
    " kind='count') # en kid:count, recuento de s por po\n",
    "plt.show()\n"
   ]
  },
  {
   "cell_type": "code",
   "execution_count": 101,
   "id": "d69fa8f6-fba8-400d-bf05-9328f71eb6f6",
   "metadata": {},
   "outputs": [
    {
     "name": "stderr",
     "output_type": "stream",
     "text": [
      "C:\\ProgramData\\anaconda3\\Lib\\site-packages\\seaborn\\axisgrid.py:118: UserWarning: The figure layout has changed to tight\n",
      "  self._figure.tight_layout(*args, **kwargs)\n"
     ]
    },
    {
     "data": {
      "text/plain": [
       "<seaborn.axisgrid.FacetGrid at 0x25093cfb450>"
      ]
     },
     "execution_count": 101,
     "metadata": {},
     "output_type": "execute_result"
    },
    {
     "data": {
      "image/png": "[encoded data removed]",
      "text/plain": [
       "<Figure size 727x300 with 2 Axes>"
      ]
     },
     "metadata": {},
     "output_type": "display_data"
    }
   ],
   "source": [
    "# supervivencia según puerto de embarque y clase\n",
    "sns.catplot (y='Calidad_Leche', # en y la variable categórica: Survived.\n",
    " col='Olor', # en col la variable categórica: Embarked un gráfi\n",
    " hue='Grasa', # en hue la varieble categórica: Pclass, color de\n",
    " data=df, # en data:df\n",
    " palette=sns.color_palette(['MediumVioletRed','DarkViolet','Gold']),# colores.\n",
    " height = 3, # Altura del gráfico.\n",
    " aspect = 1, # Razón del ancho con respecto a la altura.\n",
    " kind='count')"
   ]
  },
  {
   "cell_type": "code",
   "execution_count": 150,
   "id": "b3041e23-67c1-4697-af31-9b66bd02f5d3",
   "metadata": {},
   "outputs": [
    {
     "name": "stderr",
     "output_type": "stream",
     "text": [
      "C:\\ProgramData\\anaconda3\\Lib\\site-packages\\seaborn\\axisgrid.py:118: UserWarning: The figure layout has changed to tight\n",
      "  self._figure.tight_layout(*args, **kwargs)\n"
     ]
    },
    {
     "data": {
      "text/plain": [
       "<seaborn.axisgrid.FacetGrid at 0x250954f1350>"
      ]
     },
     "execution_count": 150,
     "metadata": {},
     "output_type": "execute_result"
    },
    {
     "data": {
      "image/png": "[encoded data removed]",
      "text/plain": [
       "<Figure size 676.625x300 with 2 Axes>"
      ]
     },
     "metadata": {},
     "output_type": "display_data"
    }
   ],
   "source": [
    "# \n",
    "sns.catplot (y='Calidad_Leche', # en y la variable categórica: \n",
    " col='Olor', # en col la variable categórica: un gráfi\n",
    " hue='Color', # en hue la varieble categórica: , color de\n",
    " data=df, # en data:df\n",
    " palette=sns.color_palette(['MediumVioletRed','DarkViolet','Orange',\"pink\",\"red\",\"SkyBlue\",\"DeepPink\",\"Khaki\",\"Plum\"]),# colores.\n",
    " height = 3, # Altura del gráfico.\n",
    " aspect = 1, # Razón del ancho con respecto a la altura.\n",
    " kind='count')"
   ]
  },
  {
   "cell_type": "code",
   "execution_count": 138,
   "id": "730f0be2-6d6c-4c0f-b0c6-2938bec4469a",
   "metadata": {
    "scrolled": true
   },
   "outputs": [
    {
     "name": "stderr",
     "output_type": "stream",
     "text": [
      "C:\\ProgramData\\anaconda3\\Lib\\site-packages\\seaborn\\axisgrid.py:118: UserWarning: The figure layout has changed to tight\n",
      "  self._figure.tight_layout(*args, **kwargs)\n"
     ]
    },
    {
     "data": {
      "image/png": "[encoded data removed]",
      "text/plain": [
       "<Figure size 300x300 with 1 Axes>"
      ]
     },
     "metadata": {},
     "output_type": "display_data"
    }
   ],
   "source": [
    "# Frecuencia por calidad de leche\n",
    "sns.catplot(x='Calidad_Leche', # en x la variable categórica: Sex.\n",
    " data=df, # en data: df.\n",
    " palette=sns.color_palette(['orange', 'yellow',\"DeepPink\"]), # colores.\n",
    " height = 3, # Altura del gráfico.\n",
    " aspect = 1, # Razón del ancho con respecto a la altura.\n",
    " kind='count') # en kind: count, recuento por Sex (female y\n",
    "plt.title('Frecuencia por calidad') # título.\n",
    "plt.ylabel('Frecuencia') # etiqueta del eje x.\n",
    "plt.xlabel('Calidad_Leche') # etiqueta del eje y.\n",
    "plt.show()\n"
   ]
  },
  {
   "cell_type": "markdown",
   "id": "ca630a11",
   "metadata": {},
   "source": [
    "$\\color{darkviolet}{\\textsf{Interpretacion:}}$\n",
    "\n",
    "La variable de mayor frecuencia es la leche de calidad Baja, eso quiere decir que hay un problema en la producción.\n"
   ]
  },
  {
   "cell_type": "code",
   "execution_count": 104,
   "id": "19756551-0d19-4181-8fa8-5b2d70404e9b",
   "metadata": {},
   "outputs": [
    {
     "data": {
      "text/html": [
       "<div>\n",
       "<style scoped>\n",
       "    .dataframe tbody tr th:only-of-type {\n",
       "        vertical-align: middle;\n",
       "    }\n",
       "\n",
       "    .dataframe tbody tr th {\n",
       "        vertical-align: top;\n",
       "    }\n",
       "\n",
       "    .dataframe thead th {\n",
       "        text-align: right;\n",
       "    }\n",
       "</style>\n",
       "<table border=\"1\" class=\"dataframe\">\n",
       "  <thead>\n",
       "    <tr style=\"text-align: right;\">\n",
       "      <th></th>\n",
       "      <th>Sabor</th>\n",
       "      <th>Olor</th>\n",
       "      <th>Grasa</th>\n",
       "      <th>Turbidez</th>\n",
       "    </tr>\n",
       "  </thead>\n",
       "  <tbody>\n",
       "    <tr>\n",
       "      <th>0</th>\n",
       "      <td>Optimo</td>\n",
       "      <td>No_Optimo</td>\n",
       "      <td>Optimo</td>\n",
       "      <td>No_Optimo</td>\n",
       "    </tr>\n",
       "    <tr>\n",
       "      <th>1</th>\n",
       "      <td>No_Optimo</td>\n",
       "      <td>Optimo</td>\n",
       "      <td>No_Optimo</td>\n",
       "      <td>Optimo</td>\n",
       "    </tr>\n",
       "    <tr>\n",
       "      <th>2</th>\n",
       "      <td>Optimo</td>\n",
       "      <td>Optimo</td>\n",
       "      <td>Optimo</td>\n",
       "      <td>Optimo</td>\n",
       "    </tr>\n",
       "    <tr>\n",
       "      <th>3</th>\n",
       "      <td>Optimo</td>\n",
       "      <td>Optimo</td>\n",
       "      <td>No_Optimo</td>\n",
       "      <td>Optimo</td>\n",
       "    </tr>\n",
       "    <tr>\n",
       "      <th>4</th>\n",
       "      <td>No_Optimo</td>\n",
       "      <td>No_Optimo</td>\n",
       "      <td>No_Optimo</td>\n",
       "      <td>No_Optimo</td>\n",
       "    </tr>\n",
       "    <tr>\n",
       "      <th>...</th>\n",
       "      <td>...</td>\n",
       "      <td>...</td>\n",
       "      <td>...</td>\n",
       "      <td>...</td>\n",
       "    </tr>\n",
       "    <tr>\n",
       "      <th>1054</th>\n",
       "      <td>Optimo</td>\n",
       "      <td>Optimo</td>\n",
       "      <td>No_Optimo</td>\n",
       "      <td>No_Optimo</td>\n",
       "    </tr>\n",
       "    <tr>\n",
       "      <th>1055</th>\n",
       "      <td>Optimo</td>\n",
       "      <td>No_Optimo</td>\n",
       "      <td>Optimo</td>\n",
       "      <td>No_Optimo</td>\n",
       "    </tr>\n",
       "    <tr>\n",
       "      <th>1056</th>\n",
       "      <td>Optimo</td>\n",
       "      <td>Optimo</td>\n",
       "      <td>Optimo</td>\n",
       "      <td>Optimo</td>\n",
       "    </tr>\n",
       "    <tr>\n",
       "      <th>1057</th>\n",
       "      <td>Optimo</td>\n",
       "      <td>No_Optimo</td>\n",
       "      <td>Optimo</td>\n",
       "      <td>No_Optimo</td>\n",
       "    </tr>\n",
       "    <tr>\n",
       "      <th>1058</th>\n",
       "      <td>No_Optimo</td>\n",
       "      <td>Optimo</td>\n",
       "      <td>Optimo</td>\n",
       "      <td>Optimo</td>\n",
       "    </tr>\n",
       "  </tbody>\n",
       "</table>\n",
       "<p>1059 rows × 4 columns</p>\n",
       "</div>"
      ],
      "text/plain": [
       "          Sabor       Olor      Grasa   Turbidez\n",
       "0        Optimo  No_Optimo     Optimo  No_Optimo\n",
       "1     No_Optimo     Optimo  No_Optimo     Optimo\n",
       "2        Optimo     Optimo     Optimo     Optimo\n",
       "3        Optimo     Optimo  No_Optimo     Optimo\n",
       "4     No_Optimo  No_Optimo  No_Optimo  No_Optimo\n",
       "...         ...        ...        ...        ...\n",
       "1054     Optimo     Optimo  No_Optimo  No_Optimo\n",
       "1055     Optimo  No_Optimo     Optimo  No_Optimo\n",
       "1056     Optimo     Optimo     Optimo     Optimo\n",
       "1057     Optimo  No_Optimo     Optimo  No_Optimo\n",
       "1058  No_Optimo     Optimo     Optimo     Optimo\n",
       "\n",
       "[1059 rows x 4 columns]"
      ]
     },
     "execution_count": 104,
     "metadata": {},
     "output_type": "execute_result"
    }
   ],
   "source": [
    "# se muestra los valores de las las filas de la columnas Olor, Sabor, Grasa y Turbidez.\n",
    "df[['Sabor','Olor','Grasa','Turbidez']]\n",
    "\n",
    "\n",
    "\n"
   ]
  },
  {
   "cell_type": "code",
   "execution_count": 105,
   "id": "d228eae3-5684-4d39-8ead-9aaa5135946c",
   "metadata": {},
   "outputs": [
    {
     "data": {
      "image/png": "[encoded data removed]",
      "text/plain": [
       "<Figure size 640x480 with 1 Axes>"
      ]
     },
     "metadata": {},
     "output_type": "display_data"
    }
   ],
   "source": [
    "# Gráfico de barras para sabor vs calidad\n",
    "sns.countplot(x='Sabor', hue='Calidad_Leche', data=df)\n",
    "plt.title('Sabor vs Calidad_Leche')\n",
    "plt.show()\n",
    "\n"
   ]
  },
  {
   "cell_type": "markdown",
   "id": "6dbf74cb",
   "metadata": {},
   "source": [
    "$\\color{darkviolet}{\\textsf{Interpretacion:}}$\n",
    "\n",
    "Para el sabor optimo, la calidad de mayor frecuencia es baja y para sabor no optimo es media"
   ]
  },
  {
   "cell_type": "code",
   "execution_count": 106,
   "id": "b6d0c40f-362f-492d-82b4-4912e1047e55",
   "metadata": {},
   "outputs": [
    {
     "data": {
      "image/png": "[encoded data removed]",
      "text/plain": [
       "<Figure size 640x480 with 1 Axes>"
      ]
     },
     "metadata": {},
     "output_type": "display_data"
    }
   ],
   "source": [
    "# Gráfico de barras para olor vs calidad\n",
    "sns.countplot(x='Olor', hue='Calidad_Leche', data=df)\n",
    "plt.title('Olor vs Calidad_Leche')\n",
    "plt.show()"
   ]
  },
  {
   "cell_type": "code",
   "execution_count": null,
   "id": "0d451a4f-929a-4552-b4f8-04f8cc08d9bd",
   "metadata": {},
   "outputs": [],
   "source": []
  },
  {
   "cell_type": "code",
   "execution_count": null,
   "id": "f285fa08-1351-40a0-9b91-a321265b9626",
   "metadata": {},
   "outputs": [],
   "source": []
  },
  {
   "cell_type": "code",
   "execution_count": null,
   "id": "0b9b0249-0213-4c0b-aee4-224da1b3be2b",
   "metadata": {},
   "outputs": [],
   "source": []
  },
  {
   "cell_type": "code",
   "execution_count": 107,
   "id": "5ffcd37c-6023-4d81-9627-3df11253f605",
   "metadata": {},
   "outputs": [
    {
     "data": {
      "text/plain": [
       "'No_Optimo'"
      ]
     },
     "execution_count": 107,
     "metadata": {},
     "output_type": "execute_result"
    }
   ],
   "source": [
    "df.Olor.mode()[0]\n"
   ]
  },
  {
   "cell_type": "code",
   "execution_count": 108,
   "id": "002b9be1-c5e4-40c3-be93-958510afd283",
   "metadata": {},
   "outputs": [
    {
     "data": {
      "text/plain": [
       "'No_Optimo'"
      ]
     },
     "execution_count": 108,
     "metadata": {},
     "output_type": "execute_result"
    }
   ],
   "source": [
    "df.Turbidez.mode()[0]"
   ]
  },
  {
   "cell_type": "code",
   "execution_count": 109,
   "id": "0d43dc92",
   "metadata": {},
   "outputs": [
    {
     "data": {
      "text/plain": [
       "90.0"
      ]
     },
     "execution_count": 109,
     "metadata": {},
     "output_type": "execute_result"
    }
   ],
   "source": [
    "# Obtener la máxima temperatura de la leche\n",
    "df.Temperatura.max()\n"
   ]
  },
  {
   "cell_type": "markdown",
   "id": "147ddf40",
   "metadata": {},
   "source": [
    "$\\color{darkviolet}{\\textsf{Interpretacion:}}$\n",
    "\n",
    "La máxima temperatura que esta presente en la muestra de leche dada es 90 °C"
   ]
  },
  {
   "cell_type": "code",
   "execution_count": 110,
   "id": "1561cc01",
   "metadata": {},
   "outputs": [
    {
     "data": {
      "text/plain": [
       "44.16263310745402"
      ]
     },
     "execution_count": 110,
     "metadata": {},
     "output_type": "execute_result"
    }
   ],
   "source": [
    "df.Temperatura.mean()"
   ]
  },
  {
   "cell_type": "markdown",
   "id": "f3d7e189",
   "metadata": {},
   "source": [
    "$\\color{darkviolet}{\\textsf{Interpretacion:}}$\n",
    "\n",
    "La máxima temperatura que esta presente en la muestra de leche dada es 44 °C"
   ]
  },
  {
   "cell_type": "code",
   "execution_count": 111,
   "id": "539c997c-f2c9-454a-a8bb-4db6faff7e00",
   "metadata": {
    "scrolled": true
   },
   "outputs": [
    {
     "data": {
      "text/plain": [
       "34.0"
      ]
     },
     "execution_count": 111,
     "metadata": {},
     "output_type": "execute_result"
    }
   ],
   "source": [
    "#Obtener la mínima temperatura\n",
    "df.Temperatura.min()"
   ]
  },
  {
   "cell_type": "markdown",
   "id": "eef599f0",
   "metadata": {},
   "source": [
    "$\\color{darkviolet}{\\textsf{Interpretacion:}}$\n",
    "\n",
    "La mínima temperatura que esta presente en la muestra de leche dada es 34 °C"
   ]
  },
  {
   "cell_type": "code",
   "execution_count": 112,
   "id": "5c565971",
   "metadata": {},
   "outputs": [
    {
     "name": "stdout",
     "output_type": "stream",
     "text": [
      "<class 'pandas.core.frame.DataFrame'>\n",
      "RangeIndex: 1059 entries, 0 to 1058\n",
      "Data columns (total 9 columns):\n",
      " #   Column            Non-Null Count  Dtype  \n",
      "---  ------            --------------  -----  \n",
      " 0   ID_Muestra_Leche  1059 non-null   int64  \n",
      " 1   pH                1031 non-null   float64\n",
      " 2   Temperatura       1033 non-null   float64\n",
      " 3   Sabor             1059 non-null   object \n",
      " 4   Olor              1059 non-null   object \n",
      " 5   Grasa             1059 non-null   object \n",
      " 6   Turbidez          1059 non-null   object \n",
      " 7   Color             1059 non-null   int64  \n",
      " 8   Calidad_Leche     1059 non-null   object \n",
      "dtypes: float64(2), int64(2), object(5)\n",
      "memory usage: 74.6+ KB\n"
     ]
    }
   ],
   "source": [
    "df.info()"
   ]
  },
  {
   "cell_type": "code",
   "execution_count": 113,
   "id": "910e75cc",
   "metadata": {},
   "outputs": [
    {
     "data": {
      "text/html": [
       "<div>\n",
       "<style scoped>\n",
       "    .dataframe tbody tr th:only-of-type {\n",
       "        vertical-align: middle;\n",
       "    }\n",
       "\n",
       "    .dataframe tbody tr th {\n",
       "        vertical-align: top;\n",
       "    }\n",
       "\n",
       "    .dataframe thead th {\n",
       "        text-align: right;\n",
       "    }\n",
       "</style>\n",
       "<table border=\"1\" class=\"dataframe\">\n",
       "  <thead>\n",
       "    <tr style=\"text-align: right;\">\n",
       "      <th></th>\n",
       "      <th>ID_Muestra_Leche</th>\n",
       "      <th>pH</th>\n",
       "      <th>Temperatura</th>\n",
       "      <th>Color</th>\n",
       "    </tr>\n",
       "  </thead>\n",
       "  <tbody>\n",
       "    <tr>\n",
       "      <th>count</th>\n",
       "      <td>1059.00000000</td>\n",
       "      <td>1031.0000000</td>\n",
       "      <td>1033.00000000</td>\n",
       "      <td>1059.00000000</td>\n",
       "    </tr>\n",
       "    <tr>\n",
       "      <th>mean</th>\n",
       "      <td>530.00000000</td>\n",
       "      <td>6.6343356</td>\n",
       "      <td>44.16263311</td>\n",
       "      <td>251.84041549</td>\n",
       "    </tr>\n",
       "    <tr>\n",
       "      <th>std</th>\n",
       "      <td>305.85127105</td>\n",
       "      <td>1.3982529</td>\n",
       "      <td>10.01397655</td>\n",
       "      <td>4.30742426</td>\n",
       "    </tr>\n",
       "    <tr>\n",
       "      <th>min</th>\n",
       "      <td>1.00000000</td>\n",
       "      <td>3.0000000</td>\n",
       "      <td>34.00000000</td>\n",
       "      <td>240.00000000</td>\n",
       "    </tr>\n",
       "    <tr>\n",
       "      <th>25%</th>\n",
       "      <td>265.50000000</td>\n",
       "      <td>6.5000000</td>\n",
       "      <td>38.00000000</td>\n",
       "      <td>250.00000000</td>\n",
       "    </tr>\n",
       "    <tr>\n",
       "      <th>50%</th>\n",
       "      <td>530.00000000</td>\n",
       "      <td>6.7000000</td>\n",
       "      <td>41.00000000</td>\n",
       "      <td>255.00000000</td>\n",
       "    </tr>\n",
       "    <tr>\n",
       "      <th>75%</th>\n",
       "      <td>794.50000000</td>\n",
       "      <td>6.8000000</td>\n",
       "      <td>45.00000000</td>\n",
       "      <td>255.00000000</td>\n",
       "    </tr>\n",
       "    <tr>\n",
       "      <th>max</th>\n",
       "      <td>1059.00000000</td>\n",
       "      <td>9.5000000</td>\n",
       "      <td>90.00000000</td>\n",
       "      <td>255.00000000</td>\n",
       "    </tr>\n",
       "  </tbody>\n",
       "</table>\n",
       "</div>"
      ],
      "text/plain": [
       "       ID_Muestra_Leche            pH    Temperatura          Color\n",
       "count     1059.00000000  1031.0000000  1033.00000000  1059.00000000\n",
       "mean       530.00000000     6.6343356    44.16263311   251.84041549\n",
       "std        305.85127105     1.3982529    10.01397655     4.30742426\n",
       "min          1.00000000     3.0000000    34.00000000   240.00000000\n",
       "25%        265.50000000     6.5000000    38.00000000   250.00000000\n",
       "50%        530.00000000     6.7000000    41.00000000   255.00000000\n",
       "75%        794.50000000     6.8000000    45.00000000   255.00000000\n",
       "max       1059.00000000     9.5000000    90.00000000   255.00000000"
      ]
     },
     "execution_count": 113,
     "metadata": {},
     "output_type": "execute_result"
    }
   ],
   "source": [
    "df.describe()\n"
   ]
  },
  {
   "cell_type": "code",
   "execution_count": 114,
   "id": "dc35ea10",
   "metadata": {},
   "outputs": [
    {
     "data": {
      "text/plain": [
       "pH   Turbidez \n",
       "3.0  No_Optimo    40.0\n",
       "     Optimo       40.0\n",
       "4.5  Optimo       60.0\n",
       "4.7  No_Optimo    38.0\n",
       "5.5  Optimo       45.0\n",
       "5.6  Optimo       50.0\n",
       "6.4  No_Optimo    45.0\n",
       "6.5  No_Optimo    55.0\n",
       "     Optimo       40.0\n",
       "6.6  No_Optimo    50.0\n",
       "     Optimo       50.0\n",
       "6.7  No_Optimo    50.0\n",
       "6.8  No_Optimo    50.0\n",
       "     Optimo       55.0\n",
       "7.4  No_Optimo    65.0\n",
       "     Optimo       90.0\n",
       "8.1  Optimo       66.0\n",
       "8.5  No_Optimo    70.0\n",
       "     Optimo       70.0\n",
       "8.6  No_Optimo    55.0\n",
       "     Optimo       55.0\n",
       "9.0  Optimo       43.0\n",
       "9.5  Optimo       34.0\n",
       "Name: Temperatura, dtype: float64"
      ]
     },
     "execution_count": 114,
     "metadata": {},
     "output_type": "execute_result"
    }
   ],
   "source": [
    "df.groupby([\"pH\",\"Turbidez\"])[\"Temperatura\"].max()"
   ]
  },
  {
   "cell_type": "code",
   "execution_count": 115,
   "id": "033244a4",
   "metadata": {
    "scrolled": true
   },
   "outputs": [
    {
     "data": {
      "text/html": [
       "<div>\n",
       "<style scoped>\n",
       "    .dataframe tbody tr th:only-of-type {\n",
       "        vertical-align: middle;\n",
       "    }\n",
       "\n",
       "    .dataframe tbody tr th {\n",
       "        vertical-align: top;\n",
       "    }\n",
       "\n",
       "    .dataframe thead th {\n",
       "        text-align: right;\n",
       "    }\n",
       "</style>\n",
       "<table border=\"1\" class=\"dataframe\">\n",
       "  <thead>\n",
       "    <tr style=\"text-align: right;\">\n",
       "      <th>Turbidez</th>\n",
       "      <th>No_Optimo</th>\n",
       "      <th>Optimo</th>\n",
       "    </tr>\n",
       "    <tr>\n",
       "      <th>pH</th>\n",
       "      <th></th>\n",
       "      <th></th>\n",
       "    </tr>\n",
       "  </thead>\n",
       "  <tbody>\n",
       "    <tr>\n",
       "      <th>3.0</th>\n",
       "      <td>40.0</td>\n",
       "      <td>40.0</td>\n",
       "    </tr>\n",
       "    <tr>\n",
       "      <th>4.5</th>\n",
       "      <td>NaN</td>\n",
       "      <td>60.0</td>\n",
       "    </tr>\n",
       "    <tr>\n",
       "      <th>4.7</th>\n",
       "      <td>38.0</td>\n",
       "      <td>NaN</td>\n",
       "    </tr>\n",
       "    <tr>\n",
       "      <th>5.5</th>\n",
       "      <td>NaN</td>\n",
       "      <td>45.0</td>\n",
       "    </tr>\n",
       "    <tr>\n",
       "      <th>5.6</th>\n",
       "      <td>NaN</td>\n",
       "      <td>50.0</td>\n",
       "    </tr>\n",
       "    <tr>\n",
       "      <th>6.4</th>\n",
       "      <td>45.0</td>\n",
       "      <td>NaN</td>\n",
       "    </tr>\n",
       "    <tr>\n",
       "      <th>6.5</th>\n",
       "      <td>55.0</td>\n",
       "      <td>40.0</td>\n",
       "    </tr>\n",
       "    <tr>\n",
       "      <th>6.6</th>\n",
       "      <td>50.0</td>\n",
       "      <td>50.0</td>\n",
       "    </tr>\n",
       "    <tr>\n",
       "      <th>6.7</th>\n",
       "      <td>50.0</td>\n",
       "      <td>NaN</td>\n",
       "    </tr>\n",
       "    <tr>\n",
       "      <th>6.8</th>\n",
       "      <td>50.0</td>\n",
       "      <td>55.0</td>\n",
       "    </tr>\n",
       "    <tr>\n",
       "      <th>7.4</th>\n",
       "      <td>65.0</td>\n",
       "      <td>90.0</td>\n",
       "    </tr>\n",
       "    <tr>\n",
       "      <th>8.1</th>\n",
       "      <td>NaN</td>\n",
       "      <td>66.0</td>\n",
       "    </tr>\n",
       "    <tr>\n",
       "      <th>8.5</th>\n",
       "      <td>70.0</td>\n",
       "      <td>70.0</td>\n",
       "    </tr>\n",
       "    <tr>\n",
       "      <th>8.6</th>\n",
       "      <td>55.0</td>\n",
       "      <td>55.0</td>\n",
       "    </tr>\n",
       "    <tr>\n",
       "      <th>9.0</th>\n",
       "      <td>NaN</td>\n",
       "      <td>43.0</td>\n",
       "    </tr>\n",
       "    <tr>\n",
       "      <th>9.5</th>\n",
       "      <td>NaN</td>\n",
       "      <td>34.0</td>\n",
       "    </tr>\n",
       "  </tbody>\n",
       "</table>\n",
       "</div>"
      ],
      "text/plain": [
       "Turbidez  No_Optimo  Optimo\n",
       "pH                         \n",
       "3.0            40.0    40.0\n",
       "4.5             NaN    60.0\n",
       "4.7            38.0     NaN\n",
       "5.5             NaN    45.0\n",
       "5.6             NaN    50.0\n",
       "6.4            45.0     NaN\n",
       "6.5            55.0    40.0\n",
       "6.6            50.0    50.0\n",
       "6.7            50.0     NaN\n",
       "6.8            50.0    55.0\n",
       "7.4            65.0    90.0\n",
       "8.1             NaN    66.0\n",
       "8.5            70.0    70.0\n",
       "8.6            55.0    55.0\n",
       "9.0             NaN    43.0\n",
       "9.5             NaN    34.0"
      ]
     },
     "execution_count": 115,
     "metadata": {},
     "output_type": "execute_result"
    }
   ],
   "source": [
    "pd.crosstab(df.pH,df.Turbidez,aggfunc='max',values=df.Temperatura) "
   ]
  },
  {
   "cell_type": "markdown",
   "id": "e913d4f4",
   "metadata": {},
   "source": [
    "$\\color{darkviolet}{\\textsf{Interpretacion:}}$\n",
    "\n",
    "La mínima temperatura que esta presente en la muestra de leche dada es 34 °C"
   ]
  },
  {
   "cell_type": "code",
   "execution_count": 116,
   "id": "ce77d000",
   "metadata": {},
   "outputs": [
    {
     "data": {
      "text/plain": [
       "array([6.6, 8.5, 9.5, 5.5, 4.5, 8.1, 6.7, nan, 6.5, 6.8, 6.4, 8.6, 7.4,\n",
       "       3. , 9. , 5.6, 4.7])"
      ]
     },
     "execution_count": 116,
     "metadata": {},
     "output_type": "execute_result"
    }
   ],
   "source": [
    "df.pH.unique()"
   ]
  },
  {
   "cell_type": "code",
   "execution_count": 117,
   "id": "2a621bb5",
   "metadata": {},
   "outputs": [
    {
     "data": {
      "text/plain": [
       "array([35., 36., 70., 34., 37., 45., 60., 66., 50., nan, 43., 40., 38.,\n",
       "       42., 41., 55., 65., 90.])"
      ]
     },
     "execution_count": 117,
     "metadata": {},
     "output_type": "execute_result"
    }
   ],
   "source": [
    "df.Temperatura.unique()"
   ]
  },
  {
   "cell_type": "code",
   "execution_count": 118,
   "id": "0fb78576",
   "metadata": {},
   "outputs": [
    {
     "data": {
      "text/plain": [
       "array([254, 253, 246, 255, 250, 247, 245, 240, 248], dtype=int64)"
      ]
     },
     "execution_count": 118,
     "metadata": {},
     "output_type": "execute_result"
    }
   ],
   "source": [
    "df.Color.unique()"
   ]
  },
  {
   "cell_type": "code",
   "execution_count": 119,
   "id": "8f5900ce",
   "metadata": {},
   "outputs": [
    {
     "data": {
      "text/html": [
       "<div>\n",
       "<style scoped>\n",
       "    .dataframe tbody tr th:only-of-type {\n",
       "        vertical-align: middle;\n",
       "    }\n",
       "\n",
       "    .dataframe tbody tr th {\n",
       "        vertical-align: top;\n",
       "    }\n",
       "\n",
       "    .dataframe thead th {\n",
       "        text-align: right;\n",
       "    }\n",
       "</style>\n",
       "<table border=\"1\" class=\"dataframe\">\n",
       "  <thead>\n",
       "    <tr style=\"text-align: right;\">\n",
       "      <th></th>\n",
       "      <th>ID_Muestra_Leche</th>\n",
       "      <th>pH</th>\n",
       "      <th>Temperatura</th>\n",
       "      <th>Sabor</th>\n",
       "      <th>Olor</th>\n",
       "      <th>Grasa</th>\n",
       "      <th>Turbidez</th>\n",
       "      <th>Color</th>\n",
       "      <th>Calidad_Leche</th>\n",
       "    </tr>\n",
       "  </thead>\n",
       "  <tbody>\n",
       "    <tr>\n",
       "      <th>0</th>\n",
       "      <td>False</td>\n",
       "      <td>False</td>\n",
       "      <td>False</td>\n",
       "      <td>False</td>\n",
       "      <td>False</td>\n",
       "      <td>False</td>\n",
       "      <td>False</td>\n",
       "      <td>False</td>\n",
       "      <td>False</td>\n",
       "    </tr>\n",
       "    <tr>\n",
       "      <th>1</th>\n",
       "      <td>False</td>\n",
       "      <td>False</td>\n",
       "      <td>False</td>\n",
       "      <td>False</td>\n",
       "      <td>False</td>\n",
       "      <td>False</td>\n",
       "      <td>False</td>\n",
       "      <td>False</td>\n",
       "      <td>False</td>\n",
       "    </tr>\n",
       "    <tr>\n",
       "      <th>2</th>\n",
       "      <td>False</td>\n",
       "      <td>False</td>\n",
       "      <td>False</td>\n",
       "      <td>False</td>\n",
       "      <td>False</td>\n",
       "      <td>False</td>\n",
       "      <td>False</td>\n",
       "      <td>False</td>\n",
       "      <td>False</td>\n",
       "    </tr>\n",
       "    <tr>\n",
       "      <th>3</th>\n",
       "      <td>False</td>\n",
       "      <td>False</td>\n",
       "      <td>False</td>\n",
       "      <td>False</td>\n",
       "      <td>False</td>\n",
       "      <td>False</td>\n",
       "      <td>False</td>\n",
       "      <td>False</td>\n",
       "      <td>False</td>\n",
       "    </tr>\n",
       "    <tr>\n",
       "      <th>4</th>\n",
       "      <td>False</td>\n",
       "      <td>False</td>\n",
       "      <td>False</td>\n",
       "      <td>False</td>\n",
       "      <td>False</td>\n",
       "      <td>False</td>\n",
       "      <td>False</td>\n",
       "      <td>False</td>\n",
       "      <td>False</td>\n",
       "    </tr>\n",
       "    <tr>\n",
       "      <th>...</th>\n",
       "      <td>...</td>\n",
       "      <td>...</td>\n",
       "      <td>...</td>\n",
       "      <td>...</td>\n",
       "      <td>...</td>\n",
       "      <td>...</td>\n",
       "      <td>...</td>\n",
       "      <td>...</td>\n",
       "      <td>...</td>\n",
       "    </tr>\n",
       "    <tr>\n",
       "      <th>1054</th>\n",
       "      <td>False</td>\n",
       "      <td>False</td>\n",
       "      <td>False</td>\n",
       "      <td>False</td>\n",
       "      <td>False</td>\n",
       "      <td>False</td>\n",
       "      <td>False</td>\n",
       "      <td>False</td>\n",
       "      <td>False</td>\n",
       "    </tr>\n",
       "    <tr>\n",
       "      <th>1055</th>\n",
       "      <td>False</td>\n",
       "      <td>False</td>\n",
       "      <td>False</td>\n",
       "      <td>False</td>\n",
       "      <td>False</td>\n",
       "      <td>False</td>\n",
       "      <td>False</td>\n",
       "      <td>False</td>\n",
       "      <td>False</td>\n",
       "    </tr>\n",
       "    <tr>\n",
       "      <th>1056</th>\n",
       "      <td>False</td>\n",
       "      <td>False</td>\n",
       "      <td>False</td>\n",
       "      <td>False</td>\n",
       "      <td>False</td>\n",
       "      <td>False</td>\n",
       "      <td>False</td>\n",
       "      <td>False</td>\n",
       "      <td>False</td>\n",
       "    </tr>\n",
       "    <tr>\n",
       "      <th>1057</th>\n",
       "      <td>False</td>\n",
       "      <td>False</td>\n",
       "      <td>False</td>\n",
       "      <td>False</td>\n",
       "      <td>False</td>\n",
       "      <td>False</td>\n",
       "      <td>False</td>\n",
       "      <td>False</td>\n",
       "      <td>False</td>\n",
       "    </tr>\n",
       "    <tr>\n",
       "      <th>1058</th>\n",
       "      <td>False</td>\n",
       "      <td>False</td>\n",
       "      <td>False</td>\n",
       "      <td>False</td>\n",
       "      <td>False</td>\n",
       "      <td>False</td>\n",
       "      <td>False</td>\n",
       "      <td>False</td>\n",
       "      <td>False</td>\n",
       "    </tr>\n",
       "  </tbody>\n",
       "</table>\n",
       "<p>1059 rows × 9 columns</p>\n",
       "</div>"
      ],
      "text/plain": [
       "      ID_Muestra_Leche     pH  Temperatura  Sabor   Olor  Grasa  Turbidez  \\\n",
       "0                False  False        False  False  False  False     False   \n",
       "1                False  False        False  False  False  False     False   \n",
       "2                False  False        False  False  False  False     False   \n",
       "3                False  False        False  False  False  False     False   \n",
       "4                False  False        False  False  False  False     False   \n",
       "...                ...    ...          ...    ...    ...    ...       ...   \n",
       "1054             False  False        False  False  False  False     False   \n",
       "1055             False  False        False  False  False  False     False   \n",
       "1056             False  False        False  False  False  False     False   \n",
       "1057             False  False        False  False  False  False     False   \n",
       "1058             False  False        False  False  False  False     False   \n",
       "\n",
       "      Color  Calidad_Leche  \n",
       "0     False          False  \n",
       "1     False          False  \n",
       "2     False          False  \n",
       "3     False          False  \n",
       "4     False          False  \n",
       "...     ...            ...  \n",
       "1054  False          False  \n",
       "1055  False          False  \n",
       "1056  False          False  \n",
       "1057  False          False  \n",
       "1058  False          False  \n",
       "\n",
       "[1059 rows x 9 columns]"
      ]
     },
     "execution_count": 119,
     "metadata": {},
     "output_type": "execute_result"
    }
   ],
   "source": [
    "df.isnull()\n"
   ]
  },
  {
   "cell_type": "code",
   "execution_count": 120,
   "id": "24197ae6",
   "metadata": {},
   "outputs": [
    {
     "data": {
      "text/html": [
       "<div>\n",
       "<style scoped>\n",
       "    .dataframe tbody tr th:only-of-type {\n",
       "        vertical-align: middle;\n",
       "    }\n",
       "\n",
       "    .dataframe tbody tr th {\n",
       "        vertical-align: top;\n",
       "    }\n",
       "\n",
       "    .dataframe thead th {\n",
       "        text-align: right;\n",
       "    }\n",
       "</style>\n",
       "<table border=\"1\" class=\"dataframe\">\n",
       "  <thead>\n",
       "    <tr style=\"text-align: right;\">\n",
       "      <th></th>\n",
       "      <th>ID_Muestra_Leche</th>\n",
       "      <th>pH</th>\n",
       "      <th>Temperatura</th>\n",
       "      <th>Sabor</th>\n",
       "      <th>Olor</th>\n",
       "      <th>Grasa</th>\n",
       "      <th>Turbidez</th>\n",
       "      <th>Color</th>\n",
       "      <th>Calidad_Leche</th>\n",
       "    </tr>\n",
       "  </thead>\n",
       "  <tbody>\n",
       "    <tr>\n",
       "      <th>10</th>\n",
       "      <td>11</td>\n",
       "      <td>NaN</td>\n",
       "      <td>45.0</td>\n",
       "      <td>Optimo</td>\n",
       "      <td>Optimo</td>\n",
       "      <td>Optimo</td>\n",
       "      <td>No_Optimo</td>\n",
       "      <td>245</td>\n",
       "      <td>Media</td>\n",
       "    </tr>\n",
       "    <tr>\n",
       "      <th>11</th>\n",
       "      <td>12</td>\n",
       "      <td>NaN</td>\n",
       "      <td>50.0</td>\n",
       "      <td>No_Optimo</td>\n",
       "      <td>Optimo</td>\n",
       "      <td>Optimo</td>\n",
       "      <td>Optimo</td>\n",
       "      <td>255</td>\n",
       "      <td>Baja</td>\n",
       "    </tr>\n",
       "    <tr>\n",
       "      <th>12</th>\n",
       "      <td>13</td>\n",
       "      <td>NaN</td>\n",
       "      <td>NaN</td>\n",
       "      <td>No_Optimo</td>\n",
       "      <td>Optimo</td>\n",
       "      <td>Optimo</td>\n",
       "      <td>Optimo</td>\n",
       "      <td>255</td>\n",
       "      <td>Baja</td>\n",
       "    </tr>\n",
       "    <tr>\n",
       "      <th>13</th>\n",
       "      <td>14</td>\n",
       "      <td>NaN</td>\n",
       "      <td>NaN</td>\n",
       "      <td>Optimo</td>\n",
       "      <td>No_Optimo</td>\n",
       "      <td>Optimo</td>\n",
       "      <td>Optimo</td>\n",
       "      <td>255</td>\n",
       "      <td>Baja</td>\n",
       "    </tr>\n",
       "    <tr>\n",
       "      <th>14</th>\n",
       "      <td>15</td>\n",
       "      <td>NaN</td>\n",
       "      <td>NaN</td>\n",
       "      <td>No_Optimo</td>\n",
       "      <td>Optimo</td>\n",
       "      <td>Optimo</td>\n",
       "      <td>Optimo</td>\n",
       "      <td>255</td>\n",
       "      <td>Alta</td>\n",
       "    </tr>\n",
       "    <tr>\n",
       "      <th>15</th>\n",
       "      <td>16</td>\n",
       "      <td>NaN</td>\n",
       "      <td>NaN</td>\n",
       "      <td>Optimo</td>\n",
       "      <td>No_Optimo</td>\n",
       "      <td>No_Optimo</td>\n",
       "      <td>No_Optimo</td>\n",
       "      <td>255</td>\n",
       "      <td>Media</td>\n",
       "    </tr>\n",
       "    <tr>\n",
       "      <th>16</th>\n",
       "      <td>17</td>\n",
       "      <td>NaN</td>\n",
       "      <td>NaN</td>\n",
       "      <td>Optimo</td>\n",
       "      <td>No_Optimo</td>\n",
       "      <td>Optimo</td>\n",
       "      <td>No_Optimo</td>\n",
       "      <td>255</td>\n",
       "      <td>Baja</td>\n",
       "    </tr>\n",
       "    <tr>\n",
       "      <th>17</th>\n",
       "      <td>18</td>\n",
       "      <td>NaN</td>\n",
       "      <td>NaN</td>\n",
       "      <td>Optimo</td>\n",
       "      <td>Optimo</td>\n",
       "      <td>Optimo</td>\n",
       "      <td>Optimo</td>\n",
       "      <td>255</td>\n",
       "      <td>Baja</td>\n",
       "    </tr>\n",
       "    <tr>\n",
       "      <th>18</th>\n",
       "      <td>19</td>\n",
       "      <td>NaN</td>\n",
       "      <td>43.0</td>\n",
       "      <td>Optimo</td>\n",
       "      <td>No_Optimo</td>\n",
       "      <td>Optimo</td>\n",
       "      <td>Optimo</td>\n",
       "      <td>250</td>\n",
       "      <td>Baja</td>\n",
       "    </tr>\n",
       "    <tr>\n",
       "      <th>19</th>\n",
       "      <td>20</td>\n",
       "      <td>NaN</td>\n",
       "      <td>40.0</td>\n",
       "      <td>Optimo</td>\n",
       "      <td>No_Optimo</td>\n",
       "      <td>Optimo</td>\n",
       "      <td>No_Optimo</td>\n",
       "      <td>245</td>\n",
       "      <td>Media</td>\n",
       "    </tr>\n",
       "    <tr>\n",
       "      <th>67</th>\n",
       "      <td>68</td>\n",
       "      <td>NaN</td>\n",
       "      <td>38.0</td>\n",
       "      <td>Optimo</td>\n",
       "      <td>No_Optimo</td>\n",
       "      <td>No_Optimo</td>\n",
       "      <td>No_Optimo</td>\n",
       "      <td>255</td>\n",
       "      <td>Media</td>\n",
       "    </tr>\n",
       "    <tr>\n",
       "      <th>68</th>\n",
       "      <td>69</td>\n",
       "      <td>NaN</td>\n",
       "      <td>38.0</td>\n",
       "      <td>Optimo</td>\n",
       "      <td>No_Optimo</td>\n",
       "      <td>Optimo</td>\n",
       "      <td>No_Optimo</td>\n",
       "      <td>255</td>\n",
       "      <td>Baja</td>\n",
       "    </tr>\n",
       "    <tr>\n",
       "      <th>69</th>\n",
       "      <td>70</td>\n",
       "      <td>NaN</td>\n",
       "      <td>NaN</td>\n",
       "      <td>Optimo</td>\n",
       "      <td>Optimo</td>\n",
       "      <td>Optimo</td>\n",
       "      <td>Optimo</td>\n",
       "      <td>255</td>\n",
       "      <td>Baja</td>\n",
       "    </tr>\n",
       "    <tr>\n",
       "      <th>70</th>\n",
       "      <td>71</td>\n",
       "      <td>NaN</td>\n",
       "      <td>NaN</td>\n",
       "      <td>Optimo</td>\n",
       "      <td>No_Optimo</td>\n",
       "      <td>Optimo</td>\n",
       "      <td>Optimo</td>\n",
       "      <td>250</td>\n",
       "      <td>Baja</td>\n",
       "    </tr>\n",
       "    <tr>\n",
       "      <th>71</th>\n",
       "      <td>72</td>\n",
       "      <td>NaN</td>\n",
       "      <td>NaN</td>\n",
       "      <td>Optimo</td>\n",
       "      <td>No_Optimo</td>\n",
       "      <td>Optimo</td>\n",
       "      <td>No_Optimo</td>\n",
       "      <td>245</td>\n",
       "      <td>Media</td>\n",
       "    </tr>\n",
       "    <tr>\n",
       "      <th>72</th>\n",
       "      <td>73</td>\n",
       "      <td>NaN</td>\n",
       "      <td>NaN</td>\n",
       "      <td>No_Optimo</td>\n",
       "      <td>Optimo</td>\n",
       "      <td>Optimo</td>\n",
       "      <td>Optimo</td>\n",
       "      <td>250</td>\n",
       "      <td>Alta</td>\n",
       "    </tr>\n",
       "    <tr>\n",
       "      <th>73</th>\n",
       "      <td>74</td>\n",
       "      <td>NaN</td>\n",
       "      <td>NaN</td>\n",
       "      <td>No_Optimo</td>\n",
       "      <td>No_Optimo</td>\n",
       "      <td>Optimo</td>\n",
       "      <td>No_Optimo</td>\n",
       "      <td>255</td>\n",
       "      <td>Media</td>\n",
       "    </tr>\n",
       "    <tr>\n",
       "      <th>74</th>\n",
       "      <td>75</td>\n",
       "      <td>NaN</td>\n",
       "      <td>NaN</td>\n",
       "      <td>No_Optimo</td>\n",
       "      <td>Optimo</td>\n",
       "      <td>Optimo</td>\n",
       "      <td>Optimo</td>\n",
       "      <td>255</td>\n",
       "      <td>Baja</td>\n",
       "    </tr>\n",
       "    <tr>\n",
       "      <th>75</th>\n",
       "      <td>76</td>\n",
       "      <td>NaN</td>\n",
       "      <td>NaN</td>\n",
       "      <td>Optimo</td>\n",
       "      <td>Optimo</td>\n",
       "      <td>Optimo</td>\n",
       "      <td>Optimo</td>\n",
       "      <td>245</td>\n",
       "      <td>Alta</td>\n",
       "    </tr>\n",
       "    <tr>\n",
       "      <th>76</th>\n",
       "      <td>77</td>\n",
       "      <td>NaN</td>\n",
       "      <td>35.0</td>\n",
       "      <td>Optimo</td>\n",
       "      <td>No_Optimo</td>\n",
       "      <td>Optimo</td>\n",
       "      <td>No_Optimo</td>\n",
       "      <td>246</td>\n",
       "      <td>Media</td>\n",
       "    </tr>\n",
       "    <tr>\n",
       "      <th>131</th>\n",
       "      <td>132</td>\n",
       "      <td>NaN</td>\n",
       "      <td>45.0</td>\n",
       "      <td>Optimo</td>\n",
       "      <td>Optimo</td>\n",
       "      <td>Optimo</td>\n",
       "      <td>Optimo</td>\n",
       "      <td>245</td>\n",
       "      <td>Alta</td>\n",
       "    </tr>\n",
       "    <tr>\n",
       "      <th>132</th>\n",
       "      <td>133</td>\n",
       "      <td>NaN</td>\n",
       "      <td>35.0</td>\n",
       "      <td>Optimo</td>\n",
       "      <td>No_Optimo</td>\n",
       "      <td>Optimo</td>\n",
       "      <td>No_Optimo</td>\n",
       "      <td>246</td>\n",
       "      <td>Media</td>\n",
       "    </tr>\n",
       "    <tr>\n",
       "      <th>133</th>\n",
       "      <td>134</td>\n",
       "      <td>NaN</td>\n",
       "      <td>36.0</td>\n",
       "      <td>No_Optimo</td>\n",
       "      <td>Optimo</td>\n",
       "      <td>Optimo</td>\n",
       "      <td>No_Optimo</td>\n",
       "      <td>253</td>\n",
       "      <td>Alta</td>\n",
       "    </tr>\n",
       "    <tr>\n",
       "      <th>134</th>\n",
       "      <td>135</td>\n",
       "      <td>NaN</td>\n",
       "      <td>NaN</td>\n",
       "      <td>No_Optimo</td>\n",
       "      <td>No_Optimo</td>\n",
       "      <td>No_Optimo</td>\n",
       "      <td>No_Optimo</td>\n",
       "      <td>246</td>\n",
       "      <td>Baja</td>\n",
       "    </tr>\n",
       "    <tr>\n",
       "      <th>135</th>\n",
       "      <td>136</td>\n",
       "      <td>NaN</td>\n",
       "      <td>NaN</td>\n",
       "      <td>No_Optimo</td>\n",
       "      <td>No_Optimo</td>\n",
       "      <td>No_Optimo</td>\n",
       "      <td>Optimo</td>\n",
       "      <td>240</td>\n",
       "      <td>Media</td>\n",
       "    </tr>\n",
       "    <tr>\n",
       "      <th>136</th>\n",
       "      <td>137</td>\n",
       "      <td>NaN</td>\n",
       "      <td>NaN</td>\n",
       "      <td>No_Optimo</td>\n",
       "      <td>No_Optimo</td>\n",
       "      <td>No_Optimo</td>\n",
       "      <td>No_Optimo</td>\n",
       "      <td>245</td>\n",
       "      <td>Media</td>\n",
       "    </tr>\n",
       "    <tr>\n",
       "      <th>137</th>\n",
       "      <td>138</td>\n",
       "      <td>NaN</td>\n",
       "      <td>NaN</td>\n",
       "      <td>Optimo</td>\n",
       "      <td>No_Optimo</td>\n",
       "      <td>Optimo</td>\n",
       "      <td>No_Optimo</td>\n",
       "      <td>255</td>\n",
       "      <td>Alta</td>\n",
       "    </tr>\n",
       "    <tr>\n",
       "      <th>138</th>\n",
       "      <td>139</td>\n",
       "      <td>NaN</td>\n",
       "      <td>NaN</td>\n",
       "      <td>No_Optimo</td>\n",
       "      <td>Optimo</td>\n",
       "      <td>No_Optimo</td>\n",
       "      <td>No_Optimo</td>\n",
       "      <td>240</td>\n",
       "      <td>Media</td>\n",
       "    </tr>\n",
       "  </tbody>\n",
       "</table>\n",
       "</div>"
      ],
      "text/plain": [
       "     ID_Muestra_Leche  pH  Temperatura      Sabor       Olor      Grasa  \\\n",
       "10                 11 NaN         45.0     Optimo     Optimo     Optimo   \n",
       "11                 12 NaN         50.0  No_Optimo     Optimo     Optimo   \n",
       "12                 13 NaN          NaN  No_Optimo     Optimo     Optimo   \n",
       "13                 14 NaN          NaN     Optimo  No_Optimo     Optimo   \n",
       "14                 15 NaN          NaN  No_Optimo     Optimo     Optimo   \n",
       "15                 16 NaN          NaN     Optimo  No_Optimo  No_Optimo   \n",
       "16                 17 NaN          NaN     Optimo  No_Optimo     Optimo   \n",
       "17                 18 NaN          NaN     Optimo     Optimo     Optimo   \n",
       "18                 19 NaN         43.0     Optimo  No_Optimo     Optimo   \n",
       "19                 20 NaN         40.0     Optimo  No_Optimo     Optimo   \n",
       "67                 68 NaN         38.0     Optimo  No_Optimo  No_Optimo   \n",
       "68                 69 NaN         38.0     Optimo  No_Optimo     Optimo   \n",
       "69                 70 NaN          NaN     Optimo     Optimo     Optimo   \n",
       "70                 71 NaN          NaN     Optimo  No_Optimo     Optimo   \n",
       "71                 72 NaN          NaN     Optimo  No_Optimo     Optimo   \n",
       "72                 73 NaN          NaN  No_Optimo     Optimo     Optimo   \n",
       "73                 74 NaN          NaN  No_Optimo  No_Optimo     Optimo   \n",
       "74                 75 NaN          NaN  No_Optimo     Optimo     Optimo   \n",
       "75                 76 NaN          NaN     Optimo     Optimo     Optimo   \n",
       "76                 77 NaN         35.0     Optimo  No_Optimo     Optimo   \n",
       "131               132 NaN         45.0     Optimo     Optimo     Optimo   \n",
       "132               133 NaN         35.0     Optimo  No_Optimo     Optimo   \n",
       "133               134 NaN         36.0  No_Optimo     Optimo     Optimo   \n",
       "134               135 NaN          NaN  No_Optimo  No_Optimo  No_Optimo   \n",
       "135               136 NaN          NaN  No_Optimo  No_Optimo  No_Optimo   \n",
       "136               137 NaN          NaN  No_Optimo  No_Optimo  No_Optimo   \n",
       "137               138 NaN          NaN     Optimo  No_Optimo     Optimo   \n",
       "138               139 NaN          NaN  No_Optimo     Optimo  No_Optimo   \n",
       "\n",
       "      Turbidez  Color Calidad_Leche  \n",
       "10   No_Optimo    245         Media  \n",
       "11      Optimo    255          Baja  \n",
       "12      Optimo    255          Baja  \n",
       "13      Optimo    255          Baja  \n",
       "14      Optimo    255          Alta  \n",
       "15   No_Optimo    255         Media  \n",
       "16   No_Optimo    255          Baja  \n",
       "17      Optimo    255          Baja  \n",
       "18      Optimo    250          Baja  \n",
       "19   No_Optimo    245         Media  \n",
       "67   No_Optimo    255         Media  \n",
       "68   No_Optimo    255          Baja  \n",
       "69      Optimo    255          Baja  \n",
       "70      Optimo    250          Baja  \n",
       "71   No_Optimo    245         Media  \n",
       "72      Optimo    250          Alta  \n",
       "73   No_Optimo    255         Media  \n",
       "74      Optimo    255          Baja  \n",
       "75      Optimo    245          Alta  \n",
       "76   No_Optimo    246         Media  \n",
       "131     Optimo    245          Alta  \n",
       "132  No_Optimo    246         Media  \n",
       "133  No_Optimo    253          Alta  \n",
       "134  No_Optimo    246          Baja  \n",
       "135     Optimo    240         Media  \n",
       "136  No_Optimo    245         Media  \n",
       "137  No_Optimo    255          Alta  \n",
       "138  No_Optimo    240         Media  "
      ]
     },
     "execution_count": 120,
     "metadata": {},
     "output_type": "execute_result"
    }
   ],
   "source": [
    "df[df.pH.isin([np.nan])]"
   ]
  },
  {
   "cell_type": "code",
   "execution_count": 121,
   "id": "01d15468",
   "metadata": {},
   "outputs": [
    {
     "data": {
      "text/html": [
       "<div>\n",
       "<style scoped>\n",
       "    .dataframe tbody tr th:only-of-type {\n",
       "        vertical-align: middle;\n",
       "    }\n",
       "\n",
       "    .dataframe tbody tr th {\n",
       "        vertical-align: top;\n",
       "    }\n",
       "\n",
       "    .dataframe thead th {\n",
       "        text-align: right;\n",
       "    }\n",
       "</style>\n",
       "<table border=\"1\" class=\"dataframe\">\n",
       "  <thead>\n",
       "    <tr style=\"text-align: right;\">\n",
       "      <th></th>\n",
       "      <th>ID_Muestra_Leche</th>\n",
       "      <th>pH</th>\n",
       "      <th>Temperatura</th>\n",
       "      <th>Sabor</th>\n",
       "      <th>Olor</th>\n",
       "      <th>Grasa</th>\n",
       "      <th>Turbidez</th>\n",
       "      <th>Color</th>\n",
       "      <th>Calidad_Leche</th>\n",
       "    </tr>\n",
       "  </thead>\n",
       "  <tbody>\n",
       "    <tr>\n",
       "      <th>12</th>\n",
       "      <td>13</td>\n",
       "      <td>NaN</td>\n",
       "      <td>NaN</td>\n",
       "      <td>No_Optimo</td>\n",
       "      <td>Optimo</td>\n",
       "      <td>Optimo</td>\n",
       "      <td>Optimo</td>\n",
       "      <td>255</td>\n",
       "      <td>Baja</td>\n",
       "    </tr>\n",
       "    <tr>\n",
       "      <th>13</th>\n",
       "      <td>14</td>\n",
       "      <td>NaN</td>\n",
       "      <td>NaN</td>\n",
       "      <td>Optimo</td>\n",
       "      <td>No_Optimo</td>\n",
       "      <td>Optimo</td>\n",
       "      <td>Optimo</td>\n",
       "      <td>255</td>\n",
       "      <td>Baja</td>\n",
       "    </tr>\n",
       "    <tr>\n",
       "      <th>14</th>\n",
       "      <td>15</td>\n",
       "      <td>NaN</td>\n",
       "      <td>NaN</td>\n",
       "      <td>No_Optimo</td>\n",
       "      <td>Optimo</td>\n",
       "      <td>Optimo</td>\n",
       "      <td>Optimo</td>\n",
       "      <td>255</td>\n",
       "      <td>Alta</td>\n",
       "    </tr>\n",
       "    <tr>\n",
       "      <th>15</th>\n",
       "      <td>16</td>\n",
       "      <td>NaN</td>\n",
       "      <td>NaN</td>\n",
       "      <td>Optimo</td>\n",
       "      <td>No_Optimo</td>\n",
       "      <td>No_Optimo</td>\n",
       "      <td>No_Optimo</td>\n",
       "      <td>255</td>\n",
       "      <td>Media</td>\n",
       "    </tr>\n",
       "    <tr>\n",
       "      <th>16</th>\n",
       "      <td>17</td>\n",
       "      <td>NaN</td>\n",
       "      <td>NaN</td>\n",
       "      <td>Optimo</td>\n",
       "      <td>No_Optimo</td>\n",
       "      <td>Optimo</td>\n",
       "      <td>No_Optimo</td>\n",
       "      <td>255</td>\n",
       "      <td>Baja</td>\n",
       "    </tr>\n",
       "    <tr>\n",
       "      <th>17</th>\n",
       "      <td>18</td>\n",
       "      <td>NaN</td>\n",
       "      <td>NaN</td>\n",
       "      <td>Optimo</td>\n",
       "      <td>Optimo</td>\n",
       "      <td>Optimo</td>\n",
       "      <td>Optimo</td>\n",
       "      <td>255</td>\n",
       "      <td>Baja</td>\n",
       "    </tr>\n",
       "    <tr>\n",
       "      <th>69</th>\n",
       "      <td>70</td>\n",
       "      <td>NaN</td>\n",
       "      <td>NaN</td>\n",
       "      <td>Optimo</td>\n",
       "      <td>Optimo</td>\n",
       "      <td>Optimo</td>\n",
       "      <td>Optimo</td>\n",
       "      <td>255</td>\n",
       "      <td>Baja</td>\n",
       "    </tr>\n",
       "    <tr>\n",
       "      <th>70</th>\n",
       "      <td>71</td>\n",
       "      <td>NaN</td>\n",
       "      <td>NaN</td>\n",
       "      <td>Optimo</td>\n",
       "      <td>No_Optimo</td>\n",
       "      <td>Optimo</td>\n",
       "      <td>Optimo</td>\n",
       "      <td>250</td>\n",
       "      <td>Baja</td>\n",
       "    </tr>\n",
       "    <tr>\n",
       "      <th>71</th>\n",
       "      <td>72</td>\n",
       "      <td>NaN</td>\n",
       "      <td>NaN</td>\n",
       "      <td>Optimo</td>\n",
       "      <td>No_Optimo</td>\n",
       "      <td>Optimo</td>\n",
       "      <td>No_Optimo</td>\n",
       "      <td>245</td>\n",
       "      <td>Media</td>\n",
       "    </tr>\n",
       "    <tr>\n",
       "      <th>72</th>\n",
       "      <td>73</td>\n",
       "      <td>NaN</td>\n",
       "      <td>NaN</td>\n",
       "      <td>No_Optimo</td>\n",
       "      <td>Optimo</td>\n",
       "      <td>Optimo</td>\n",
       "      <td>Optimo</td>\n",
       "      <td>250</td>\n",
       "      <td>Alta</td>\n",
       "    </tr>\n",
       "    <tr>\n",
       "      <th>73</th>\n",
       "      <td>74</td>\n",
       "      <td>NaN</td>\n",
       "      <td>NaN</td>\n",
       "      <td>No_Optimo</td>\n",
       "      <td>No_Optimo</td>\n",
       "      <td>Optimo</td>\n",
       "      <td>No_Optimo</td>\n",
       "      <td>255</td>\n",
       "      <td>Media</td>\n",
       "    </tr>\n",
       "    <tr>\n",
       "      <th>74</th>\n",
       "      <td>75</td>\n",
       "      <td>NaN</td>\n",
       "      <td>NaN</td>\n",
       "      <td>No_Optimo</td>\n",
       "      <td>Optimo</td>\n",
       "      <td>Optimo</td>\n",
       "      <td>Optimo</td>\n",
       "      <td>255</td>\n",
       "      <td>Baja</td>\n",
       "    </tr>\n",
       "    <tr>\n",
       "      <th>75</th>\n",
       "      <td>76</td>\n",
       "      <td>NaN</td>\n",
       "      <td>NaN</td>\n",
       "      <td>Optimo</td>\n",
       "      <td>Optimo</td>\n",
       "      <td>Optimo</td>\n",
       "      <td>Optimo</td>\n",
       "      <td>245</td>\n",
       "      <td>Alta</td>\n",
       "    </tr>\n",
       "    <tr>\n",
       "      <th>134</th>\n",
       "      <td>135</td>\n",
       "      <td>NaN</td>\n",
       "      <td>NaN</td>\n",
       "      <td>No_Optimo</td>\n",
       "      <td>No_Optimo</td>\n",
       "      <td>No_Optimo</td>\n",
       "      <td>No_Optimo</td>\n",
       "      <td>246</td>\n",
       "      <td>Baja</td>\n",
       "    </tr>\n",
       "    <tr>\n",
       "      <th>135</th>\n",
       "      <td>136</td>\n",
       "      <td>NaN</td>\n",
       "      <td>NaN</td>\n",
       "      <td>No_Optimo</td>\n",
       "      <td>No_Optimo</td>\n",
       "      <td>No_Optimo</td>\n",
       "      <td>Optimo</td>\n",
       "      <td>240</td>\n",
       "      <td>Media</td>\n",
       "    </tr>\n",
       "    <tr>\n",
       "      <th>136</th>\n",
       "      <td>137</td>\n",
       "      <td>NaN</td>\n",
       "      <td>NaN</td>\n",
       "      <td>No_Optimo</td>\n",
       "      <td>No_Optimo</td>\n",
       "      <td>No_Optimo</td>\n",
       "      <td>No_Optimo</td>\n",
       "      <td>245</td>\n",
       "      <td>Media</td>\n",
       "    </tr>\n",
       "    <tr>\n",
       "      <th>137</th>\n",
       "      <td>138</td>\n",
       "      <td>NaN</td>\n",
       "      <td>NaN</td>\n",
       "      <td>Optimo</td>\n",
       "      <td>No_Optimo</td>\n",
       "      <td>Optimo</td>\n",
       "      <td>No_Optimo</td>\n",
       "      <td>255</td>\n",
       "      <td>Alta</td>\n",
       "    </tr>\n",
       "    <tr>\n",
       "      <th>138</th>\n",
       "      <td>139</td>\n",
       "      <td>NaN</td>\n",
       "      <td>NaN</td>\n",
       "      <td>No_Optimo</td>\n",
       "      <td>Optimo</td>\n",
       "      <td>No_Optimo</td>\n",
       "      <td>No_Optimo</td>\n",
       "      <td>240</td>\n",
       "      <td>Media</td>\n",
       "    </tr>\n",
       "    <tr>\n",
       "      <th>139</th>\n",
       "      <td>140</td>\n",
       "      <td>7.4</td>\n",
       "      <td>NaN</td>\n",
       "      <td>No_Optimo</td>\n",
       "      <td>No_Optimo</td>\n",
       "      <td>No_Optimo</td>\n",
       "      <td>No_Optimo</td>\n",
       "      <td>255</td>\n",
       "      <td>Baja</td>\n",
       "    </tr>\n",
       "    <tr>\n",
       "      <th>164</th>\n",
       "      <td>165</td>\n",
       "      <td>6.5</td>\n",
       "      <td>NaN</td>\n",
       "      <td>Optimo</td>\n",
       "      <td>No_Optimo</td>\n",
       "      <td>Optimo</td>\n",
       "      <td>No_Optimo</td>\n",
       "      <td>255</td>\n",
       "      <td>Media</td>\n",
       "    </tr>\n",
       "    <tr>\n",
       "      <th>165</th>\n",
       "      <td>166</td>\n",
       "      <td>6.7</td>\n",
       "      <td>NaN</td>\n",
       "      <td>Optimo</td>\n",
       "      <td>No_Optimo</td>\n",
       "      <td>No_Optimo</td>\n",
       "      <td>No_Optimo</td>\n",
       "      <td>247</td>\n",
       "      <td>Media</td>\n",
       "    </tr>\n",
       "    <tr>\n",
       "      <th>166</th>\n",
       "      <td>167</td>\n",
       "      <td>6.7</td>\n",
       "      <td>NaN</td>\n",
       "      <td>Optimo</td>\n",
       "      <td>Optimo</td>\n",
       "      <td>Optimo</td>\n",
       "      <td>No_Optimo</td>\n",
       "      <td>245</td>\n",
       "      <td>Baja</td>\n",
       "    </tr>\n",
       "    <tr>\n",
       "      <th>167</th>\n",
       "      <td>168</td>\n",
       "      <td>6.8</td>\n",
       "      <td>NaN</td>\n",
       "      <td>No_Optimo</td>\n",
       "      <td>Optimo</td>\n",
       "      <td>Optimo</td>\n",
       "      <td>Optimo</td>\n",
       "      <td>255</td>\n",
       "      <td>Alta</td>\n",
       "    </tr>\n",
       "    <tr>\n",
       "      <th>168</th>\n",
       "      <td>169</td>\n",
       "      <td>8.6</td>\n",
       "      <td>NaN</td>\n",
       "      <td>No_Optimo</td>\n",
       "      <td>Optimo</td>\n",
       "      <td>No_Optimo</td>\n",
       "      <td>No_Optimo</td>\n",
       "      <td>255</td>\n",
       "      <td>Baja</td>\n",
       "    </tr>\n",
       "    <tr>\n",
       "      <th>169</th>\n",
       "      <td>170</td>\n",
       "      <td>7.4</td>\n",
       "      <td>NaN</td>\n",
       "      <td>No_Optimo</td>\n",
       "      <td>No_Optimo</td>\n",
       "      <td>No_Optimo</td>\n",
       "      <td>No_Optimo</td>\n",
       "      <td>255</td>\n",
       "      <td>Baja</td>\n",
       "    </tr>\n",
       "    <tr>\n",
       "      <th>170</th>\n",
       "      <td>171</td>\n",
       "      <td>6.8</td>\n",
       "      <td>NaN</td>\n",
       "      <td>No_Optimo</td>\n",
       "      <td>No_Optimo</td>\n",
       "      <td>No_Optimo</td>\n",
       "      <td>No_Optimo</td>\n",
       "      <td>255</td>\n",
       "      <td>Media</td>\n",
       "    </tr>\n",
       "  </tbody>\n",
       "</table>\n",
       "</div>"
      ],
      "text/plain": [
       "     ID_Muestra_Leche   pH  Temperatura      Sabor       Olor      Grasa  \\\n",
       "12                 13  NaN          NaN  No_Optimo     Optimo     Optimo   \n",
       "13                 14  NaN          NaN     Optimo  No_Optimo     Optimo   \n",
       "14                 15  NaN          NaN  No_Optimo     Optimo     Optimo   \n",
       "15                 16  NaN          NaN     Optimo  No_Optimo  No_Optimo   \n",
       "16                 17  NaN          NaN     Optimo  No_Optimo     Optimo   \n",
       "17                 18  NaN          NaN     Optimo     Optimo     Optimo   \n",
       "69                 70  NaN          NaN     Optimo     Optimo     Optimo   \n",
       "70                 71  NaN          NaN     Optimo  No_Optimo     Optimo   \n",
       "71                 72  NaN          NaN     Optimo  No_Optimo     Optimo   \n",
       "72                 73  NaN          NaN  No_Optimo     Optimo     Optimo   \n",
       "73                 74  NaN          NaN  No_Optimo  No_Optimo     Optimo   \n",
       "74                 75  NaN          NaN  No_Optimo     Optimo     Optimo   \n",
       "75                 76  NaN          NaN     Optimo     Optimo     Optimo   \n",
       "134               135  NaN          NaN  No_Optimo  No_Optimo  No_Optimo   \n",
       "135               136  NaN          NaN  No_Optimo  No_Optimo  No_Optimo   \n",
       "136               137  NaN          NaN  No_Optimo  No_Optimo  No_Optimo   \n",
       "137               138  NaN          NaN     Optimo  No_Optimo     Optimo   \n",
       "138               139  NaN          NaN  No_Optimo     Optimo  No_Optimo   \n",
       "139               140  7.4          NaN  No_Optimo  No_Optimo  No_Optimo   \n",
       "164               165  6.5          NaN     Optimo  No_Optimo     Optimo   \n",
       "165               166  6.7          NaN     Optimo  No_Optimo  No_Optimo   \n",
       "166               167  6.7          NaN     Optimo     Optimo     Optimo   \n",
       "167               168  6.8          NaN  No_Optimo     Optimo     Optimo   \n",
       "168               169  8.6          NaN  No_Optimo     Optimo  No_Optimo   \n",
       "169               170  7.4          NaN  No_Optimo  No_Optimo  No_Optimo   \n",
       "170               171  6.8          NaN  No_Optimo  No_Optimo  No_Optimo   \n",
       "\n",
       "      Turbidez  Color Calidad_Leche  \n",
       "12      Optimo    255          Baja  \n",
       "13      Optimo    255          Baja  \n",
       "14      Optimo    255          Alta  \n",
       "15   No_Optimo    255         Media  \n",
       "16   No_Optimo    255          Baja  \n",
       "17      Optimo    255          Baja  \n",
       "69      Optimo    255          Baja  \n",
       "70      Optimo    250          Baja  \n",
       "71   No_Optimo    245         Media  \n",
       "72      Optimo    250          Alta  \n",
       "73   No_Optimo    255         Media  \n",
       "74      Optimo    255          Baja  \n",
       "75      Optimo    245          Alta  \n",
       "134  No_Optimo    246          Baja  \n",
       "135     Optimo    240         Media  \n",
       "136  No_Optimo    245         Media  \n",
       "137  No_Optimo    255          Alta  \n",
       "138  No_Optimo    240         Media  \n",
       "139  No_Optimo    255          Baja  \n",
       "164  No_Optimo    255         Media  \n",
       "165  No_Optimo    247         Media  \n",
       "166  No_Optimo    245          Baja  \n",
       "167     Optimo    255          Alta  \n",
       "168  No_Optimo    255          Baja  \n",
       "169  No_Optimo    255          Baja  \n",
       "170  No_Optimo    255         Media  "
      ]
     },
     "execution_count": 121,
     "metadata": {},
     "output_type": "execute_result"
    }
   ],
   "source": [
    "df[df.Temperatura.isin([np.nan])]"
   ]
  },
  {
   "cell_type": "code",
   "execution_count": 122,
   "id": "b082b4e5",
   "metadata": {},
   "outputs": [
    {
     "data": {
      "text/plain": [
       "7.0"
      ]
     },
     "execution_count": 122,
     "metadata": {},
     "output_type": "execute_result"
    }
   ],
   "source": [
    "prom_pH=round(df.pH.mean(),0)\n",
    "prom_pH"
   ]
  },
  {
   "cell_type": "code",
   "execution_count": 123,
   "id": "cd340b59",
   "metadata": {},
   "outputs": [
    {
     "data": {
      "text/plain": [
       "44.0"
      ]
     },
     "execution_count": 123,
     "metadata": {},
     "output_type": "execute_result"
    }
   ],
   "source": [
    "prom_Temperatura=round(df.Temperatura.mean(),0)\n",
    "prom_Temperatura"
   ]
  },
  {
   "cell_type": "code",
   "execution_count": 124,
   "id": "db0f9438",
   "metadata": {},
   "outputs": [
    {
     "data": {
      "text/plain": [
       "0       0\n",
       "1       1\n",
       "2       0\n",
       "3       0\n",
       "4       1\n",
       "       ..\n",
       "1054    0\n",
       "1055    0\n",
       "1056    0\n",
       "1057    0\n",
       "1058    1\n",
       "Name: Sabor, Length: 1059, dtype: int64"
      ]
     },
     "execution_count": 124,
     "metadata": {},
     "output_type": "execute_result"
    }
   ],
   "source": [
    "df.Sabor.replace([\"Optimo\",\"No_Optimo\"],[0,1])"
   ]
  },
  {
   "cell_type": "code",
   "execution_count": 125,
   "id": "cfe3a810",
   "metadata": {},
   "outputs": [
    {
     "data": {
      "text/html": [
       "<div>\n",
       "<style scoped>\n",
       "    .dataframe tbody tr th:only-of-type {\n",
       "        vertical-align: middle;\n",
       "    }\n",
       "\n",
       "    .dataframe tbody tr th {\n",
       "        vertical-align: top;\n",
       "    }\n",
       "\n",
       "    .dataframe thead th {\n",
       "        text-align: right;\n",
       "    }\n",
       "</style>\n",
       "<table border=\"1\" class=\"dataframe\">\n",
       "  <thead>\n",
       "    <tr style=\"text-align: right;\">\n",
       "      <th></th>\n",
       "      <th>ID_Muestra_Leche</th>\n",
       "      <th>pH</th>\n",
       "      <th>Temperatura</th>\n",
       "      <th>Sabor</th>\n",
       "      <th>Olor</th>\n",
       "      <th>Grasa</th>\n",
       "      <th>Turbidez</th>\n",
       "      <th>Color</th>\n",
       "      <th>Calidad_Leche</th>\n",
       "    </tr>\n",
       "  </thead>\n",
       "  <tbody>\n",
       "    <tr>\n",
       "      <th>0</th>\n",
       "      <td>False</td>\n",
       "      <td>False</td>\n",
       "      <td>False</td>\n",
       "      <td>False</td>\n",
       "      <td>False</td>\n",
       "      <td>False</td>\n",
       "      <td>False</td>\n",
       "      <td>False</td>\n",
       "      <td>False</td>\n",
       "    </tr>\n",
       "    <tr>\n",
       "      <th>1</th>\n",
       "      <td>False</td>\n",
       "      <td>False</td>\n",
       "      <td>False</td>\n",
       "      <td>False</td>\n",
       "      <td>False</td>\n",
       "      <td>False</td>\n",
       "      <td>False</td>\n",
       "      <td>False</td>\n",
       "      <td>False</td>\n",
       "    </tr>\n",
       "    <tr>\n",
       "      <th>2</th>\n",
       "      <td>False</td>\n",
       "      <td>False</td>\n",
       "      <td>False</td>\n",
       "      <td>False</td>\n",
       "      <td>False</td>\n",
       "      <td>False</td>\n",
       "      <td>False</td>\n",
       "      <td>False</td>\n",
       "      <td>False</td>\n",
       "    </tr>\n",
       "    <tr>\n",
       "      <th>3</th>\n",
       "      <td>False</td>\n",
       "      <td>False</td>\n",
       "      <td>False</td>\n",
       "      <td>False</td>\n",
       "      <td>False</td>\n",
       "      <td>False</td>\n",
       "      <td>False</td>\n",
       "      <td>False</td>\n",
       "      <td>False</td>\n",
       "    </tr>\n",
       "    <tr>\n",
       "      <th>4</th>\n",
       "      <td>False</td>\n",
       "      <td>False</td>\n",
       "      <td>False</td>\n",
       "      <td>False</td>\n",
       "      <td>False</td>\n",
       "      <td>False</td>\n",
       "      <td>False</td>\n",
       "      <td>False</td>\n",
       "      <td>False</td>\n",
       "    </tr>\n",
       "    <tr>\n",
       "      <th>...</th>\n",
       "      <td>...</td>\n",
       "      <td>...</td>\n",
       "      <td>...</td>\n",
       "      <td>...</td>\n",
       "      <td>...</td>\n",
       "      <td>...</td>\n",
       "      <td>...</td>\n",
       "      <td>...</td>\n",
       "      <td>...</td>\n",
       "    </tr>\n",
       "    <tr>\n",
       "      <th>1054</th>\n",
       "      <td>False</td>\n",
       "      <td>False</td>\n",
       "      <td>False</td>\n",
       "      <td>False</td>\n",
       "      <td>False</td>\n",
       "      <td>False</td>\n",
       "      <td>False</td>\n",
       "      <td>False</td>\n",
       "      <td>False</td>\n",
       "    </tr>\n",
       "    <tr>\n",
       "      <th>1055</th>\n",
       "      <td>False</td>\n",
       "      <td>False</td>\n",
       "      <td>False</td>\n",
       "      <td>False</td>\n",
       "      <td>False</td>\n",
       "      <td>False</td>\n",
       "      <td>False</td>\n",
       "      <td>False</td>\n",
       "      <td>False</td>\n",
       "    </tr>\n",
       "    <tr>\n",
       "      <th>1056</th>\n",
       "      <td>False</td>\n",
       "      <td>False</td>\n",
       "      <td>False</td>\n",
       "      <td>False</td>\n",
       "      <td>False</td>\n",
       "      <td>False</td>\n",
       "      <td>False</td>\n",
       "      <td>False</td>\n",
       "      <td>False</td>\n",
       "    </tr>\n",
       "    <tr>\n",
       "      <th>1057</th>\n",
       "      <td>False</td>\n",
       "      <td>False</td>\n",
       "      <td>False</td>\n",
       "      <td>False</td>\n",
       "      <td>False</td>\n",
       "      <td>False</td>\n",
       "      <td>False</td>\n",
       "      <td>False</td>\n",
       "      <td>False</td>\n",
       "    </tr>\n",
       "    <tr>\n",
       "      <th>1058</th>\n",
       "      <td>False</td>\n",
       "      <td>False</td>\n",
       "      <td>False</td>\n",
       "      <td>False</td>\n",
       "      <td>False</td>\n",
       "      <td>False</td>\n",
       "      <td>False</td>\n",
       "      <td>False</td>\n",
       "      <td>False</td>\n",
       "    </tr>\n",
       "  </tbody>\n",
       "</table>\n",
       "<p>1059 rows × 9 columns</p>\n",
       "</div>"
      ],
      "text/plain": [
       "      ID_Muestra_Leche     pH  Temperatura  Sabor   Olor  Grasa  Turbidez  \\\n",
       "0                False  False        False  False  False  False     False   \n",
       "1                False  False        False  False  False  False     False   \n",
       "2                False  False        False  False  False  False     False   \n",
       "3                False  False        False  False  False  False     False   \n",
       "4                False  False        False  False  False  False     False   \n",
       "...                ...    ...          ...    ...    ...    ...       ...   \n",
       "1054             False  False        False  False  False  False     False   \n",
       "1055             False  False        False  False  False  False     False   \n",
       "1056             False  False        False  False  False  False     False   \n",
       "1057             False  False        False  False  False  False     False   \n",
       "1058             False  False        False  False  False  False     False   \n",
       "\n",
       "      Color  Calidad_Leche  \n",
       "0     False          False  \n",
       "1     False          False  \n",
       "2     False          False  \n",
       "3     False          False  \n",
       "4     False          False  \n",
       "...     ...            ...  \n",
       "1054  False          False  \n",
       "1055  False          False  \n",
       "1056  False          False  \n",
       "1057  False          False  \n",
       "1058  False          False  \n",
       "\n",
       "[1059 rows x 9 columns]"
      ]
     },
     "execution_count": 125,
     "metadata": {},
     "output_type": "execute_result"
    }
   ],
   "source": [
    "df.isnull()"
   ]
  },
  {
   "cell_type": "code",
   "execution_count": 126,
   "id": "4b1d7da5",
   "metadata": {},
   "outputs": [
    {
     "data": {
      "text/plain": [
       "28"
      ]
     },
     "execution_count": 126,
     "metadata": {},
     "output_type": "execute_result"
    }
   ],
   "source": [
    "df.pH.isnull().sum()"
   ]
  },
  {
   "cell_type": "code",
   "execution_count": 127,
   "id": "33f751f5",
   "metadata": {},
   "outputs": [
    {
     "data": {
      "text/plain": [
       "26"
      ]
     },
     "execution_count": 127,
     "metadata": {},
     "output_type": "execute_result"
    }
   ],
   "source": [
    "df.Temperatura.isnull().sum()"
   ]
  },
  {
   "cell_type": "code",
   "execution_count": 128,
   "id": "78633769",
   "metadata": {
    "scrolled": true
   },
   "outputs": [
    {
     "data": {
      "text/plain": [
       "Sabor      Olor       Turbidez   Grasa    \n",
       "No_Optimo  No_Optimo  No_Optimo  No_Optimo    46.43835616\n",
       "                                 Optimo       40.41269841\n",
       "                      Optimo     No_Optimo    43.90163934\n",
       "           Optimo     No_Optimo  No_Optimo    46.90476190\n",
       "                                 Optimo       36.00000000\n",
       "                      Optimo     No_Optimo    38.00000000\n",
       "                                 Optimo       48.13157895\n",
       "Optimo     No_Optimo  No_Optimo  No_Optimo    39.30508475\n",
       "                                 Optimo       38.91095890\n",
       "                      Optimo     No_Optimo    45.00000000\n",
       "                                 Optimo       55.24545455\n",
       "           Optimo     No_Optimo  No_Optimo    45.00000000\n",
       "                                 Optimo       45.59090909\n",
       "                      Optimo     No_Optimo    34.00000000\n",
       "                                 Optimo       40.62264151\n",
       "Name: Temperatura, dtype: float64"
      ]
     },
     "execution_count": 128,
     "metadata": {},
     "output_type": "execute_result"
    }
   ],
   "source": [
    "df.groupby([\"Sabor\",\"Olor\",\"Turbidez\",\"Grasa\"])[\"Temperatura\"].mean()"
   ]
  },
  {
   "cell_type": "markdown",
   "id": "92ab9e91",
   "metadata": {},
   "source": [
    "$\\color{darkviolet}{\\textsf{Interpretacion:}}$\n",
    "\n",
    "La temepratura ideal de la leche será de 40°C, indicando optimo en su sabor, olor turbidez y grasa."
   ]
  },
  {
   "cell_type": "code",
   "execution_count": 140,
   "id": "7753e97b",
   "metadata": {},
   "outputs": [
    {
     "data": {
      "image/png": "[encoded data removed]",
      "text/plain": [
       "<Figure size 640x480 with 1 Axes>"
      ]
     },
     "metadata": {},
     "output_type": "display_data"
    }
   ],
   "source": [
    "#distribución de calidad de leche\n",
    "sns.histplot(x=df.Calidad_Leche, \n",
    "             alpha=0.3,                \n",
    "             color='violet')\n",
    "\n",
    "plt.title('D')   # título.\n",
    "plt.ylabel('Turbidez')              # etiqueta del eje y.\n",
    "plt.xlabel('Calidad_Leche')                    # etiqueta del eje x.\n",
    "\n",
    "plt.show()"
   ]
  },
  {
   "cell_type": "code",
   "execution_count": 141,
   "id": "83961827",
   "metadata": {},
   "outputs": [
    {
     "data": {
      "text/plain": [
       "Sabor      Olor       Turbidez   Grasa      Calidad_Leche\n",
       "No_Optimo  No_Optimo  No_Optimo  No_Optimo  Media             99\n",
       "                                            Baja              52\n",
       "                                 Optimo     Media             56\n",
       "                                            Baja               8\n",
       "                      Optimo     No_Optimo  Media             46\n",
       "                                            Baja              16\n",
       "           Optimo     No_Optimo  No_Optimo  Media             18\n",
       "                                            Baja               5\n",
       "                                 Optimo     Alta              21\n",
       "                      Optimo     No_Optimo  Alta               1\n",
       "                                            Baja               1\n",
       "                                 Optimo     Baja              93\n",
       "                                            Alta              64\n",
       "Optimo     No_Optimo  No_Optimo  No_Optimo  Media             42\n",
       "                                            Baja              19\n",
       "                                 Optimo     Media             69\n",
       "                                            Alta              54\n",
       "                                            Baja              27\n",
       "                      Optimo     No_Optimo  Media              1\n",
       "                                 Optimo     Baja             102\n",
       "                                            Alta              10\n",
       "           Optimo     No_Optimo  No_Optimo  Media             24\n",
       "                                 Optimo     Media             19\n",
       "                                            Alta              19\n",
       "                                            Baja               7\n",
       "                      Optimo     No_Optimo  Baja              24\n",
       "                                 Optimo     Alta              87\n",
       "                                            Baja              75\n",
       "Name: count, dtype: int64"
      ]
     },
     "execution_count": 141,
     "metadata": {},
     "output_type": "execute_result"
    }
   ],
   "source": [
    "df.groupby([\"Sabor\",\"Olor\",\"Turbidez\",\"Grasa\"])[\"Calidad_Leche\"].value_counts()"
   ]
  },
  {
   "cell_type": "markdown",
   "id": "261d4899",
   "metadata": {},
   "source": [
    "$\\color{darkviolet}{\\textsf{Interpretacion:}}$\n",
    "\n",
    "\n",
    "Si las 4 caracteristicas cumplen con la condicion \"optimo\", entonces la calidad de leche es ALTA"
   ]
  },
  {
   "cell_type": "code",
   "execution_count": 151,
   "id": "9b7462e9",
   "metadata": {},
   "outputs": [
    {
     "data": {
      "text/plain": [
       "Sabor      Olor       Turbidez   Grasa    \n",
       "No_Optimo  No_Optimo  No_Optimo  No_Optimo    255\n",
       "                                 Optimo       255\n",
       "                      Optimo     No_Optimo    255\n",
       "           Optimo     No_Optimo  No_Optimo    255\n",
       "                                 Optimo       253\n",
       "                      Optimo     No_Optimo    253\n",
       "                                 Optimo       255\n",
       "Optimo     No_Optimo  No_Optimo  No_Optimo    255\n",
       "                                 Optimo       255\n",
       "                      Optimo     No_Optimo    255\n",
       "                                 Optimo       255\n",
       "           Optimo     No_Optimo  No_Optimo    247\n",
       "                                 Optimo       255\n",
       "                      Optimo     No_Optimo    255\n",
       "                                 Optimo       255\n",
       "Name: Color, dtype: int64"
      ]
     },
     "execution_count": 151,
     "metadata": {},
     "output_type": "execute_result"
    }
   ],
   "source": [
    "df.groupby([\"Sabor\",\"Olor\",\"Turbidez\",\"Grasa\"])[\"Color\"].max()"
   ]
  },
  {
   "cell_type": "markdown",
   "id": "fd1178d2",
   "metadata": {},
   "source": [
    "$\\color{darkviolet}{\\textsf{Interpretacion:}}$\n",
    "\n",
    "La tonalidad de color 255 es blanco blanco, y es la tonalidad que presenta la calidad de leche alta; sin embargo, una calidad de leche baja tambien puede presentar esta tonalidad 255, lo cual significa que el color no representa el nivel de calidad exactamente."
   ]
  },
  {
   "cell_type": "code",
   "execution_count": null,
   "id": "372b6687",
   "metadata": {},
   "outputs": [],
   "source": []
  }
 ],
 "metadata": {
  "kernelspec": {
   "display_name": "Python 3 (ipykernel)",
   "language": "python",
   "name": "python3"
  },
  "language_info": {
   "codemirror_mode": {
    "name": "ipython",
    "version": 3
   },
   "file_extension": ".py",
   "mimetype": "text/x-python",
   "name": "python",
   "nbconvert_exporter": "python",
   "pygments_lexer": "ipython3",
   "version": "3.11.5"
  }
 },
 "nbformat": 4,
 "nbformat_minor": 5
}
